{
 "cells": [
  {
   "cell_type": "markdown",
   "metadata": {},
   "source": [
    "# Import"
   ]
  },
  {
   "cell_type": "code",
   "execution_count": 1,
   "metadata": {},
   "outputs": [
    {
     "name": "stdout",
     "output_type": "stream",
     "text": [
      "Looking in indexes: https://pypi.org/simple, https://pypi.ngc.nvidia.com\n",
      "Requirement already satisfied: attacut in /home/ss/anaconda3/envs/ML_Lab/lib/python3.10/site-packages (1.0.6)\n",
      "Requirement already satisfied: docopt>=0.6.2 in /home/ss/.local/lib/python3.10/site-packages (from attacut) (0.6.2)\n",
      "Requirement already satisfied: fire>=0.1.3 in /home/ss/anaconda3/envs/ML_Lab/lib/python3.10/site-packages (from attacut) (0.5.0)\n",
      "Requirement already satisfied: nptyping>=0.2.0 in /home/ss/anaconda3/envs/ML_Lab/lib/python3.10/site-packages (from attacut) (2.5.0)\n",
      "Requirement already satisfied: numpy>=1.17.0 in /home/ss/.local/lib/python3.10/site-packages (from attacut) (1.23.5)\n",
      "Requirement already satisfied: pyyaml>=5.1.2 in /home/ss/.local/lib/python3.10/site-packages (from attacut) (6.0.1)\n",
      "Requirement already satisfied: six>=1.12.0 in /home/ss/.local/lib/python3.10/site-packages (from attacut) (1.12.0)\n",
      "Requirement already satisfied: ssg>=0.0.4 in /home/ss/anaconda3/envs/ML_Lab/lib/python3.10/site-packages (from attacut) (0.0.8)\n",
      "Requirement already satisfied: torch>=1.2.0 in /home/ss/.local/lib/python3.10/site-packages (from attacut) (2.0.1)\n",
      "Requirement already satisfied: termcolor in /home/ss/anaconda3/envs/ML_Lab/lib/python3.10/site-packages (from fire>=0.1.3->attacut) (2.4.0)\n",
      "Requirement already satisfied: python-crfsuite>=0.9.6 in /home/ss/anaconda3/envs/ML_Lab/lib/python3.10/site-packages (from ssg>=0.0.4->attacut) (0.9.10)\n",
      "Requirement already satisfied: tqdm>=4.32.2 in /home/ss/.local/lib/python3.10/site-packages (from ssg>=0.0.4->attacut) (4.65.0)\n",
      "Requirement already satisfied: filelock in /home/ss/.local/lib/python3.10/site-packages (from torch>=1.2.0->attacut) (3.12.2)\n",
      "Requirement already satisfied: typing-extensions in /home/ss/.local/lib/python3.10/site-packages (from torch>=1.2.0->attacut) (4.7.1)\n",
      "Requirement already satisfied: sympy in /home/ss/.local/lib/python3.10/site-packages (from torch>=1.2.0->attacut) (1.12)\n",
      "Requirement already satisfied: networkx in /home/ss/.local/lib/python3.10/site-packages (from torch>=1.2.0->attacut) (3.1)\n",
      "Requirement already satisfied: jinja2 in /home/ss/.local/lib/python3.10/site-packages (from torch>=1.2.0->attacut) (3.1.2)\n",
      "Requirement already satisfied: nvidia-cuda-nvrtc-cu11==11.7.99 in /home/ss/.local/lib/python3.10/site-packages (from torch>=1.2.0->attacut) (11.7.99)\n",
      "Requirement already satisfied: nvidia-cuda-runtime-cu11==11.7.99 in /home/ss/.local/lib/python3.10/site-packages (from torch>=1.2.0->attacut) (11.7.99)\n",
      "Requirement already satisfied: nvidia-cuda-cupti-cu11==11.7.101 in /home/ss/.local/lib/python3.10/site-packages (from torch>=1.2.0->attacut) (11.7.101)\n",
      "Requirement already satisfied: nvidia-cudnn-cu11==8.5.0.96 in /home/ss/.local/lib/python3.10/site-packages (from torch>=1.2.0->attacut) (8.5.0.96)\n",
      "Requirement already satisfied: nvidia-cublas-cu11==11.10.3.66 in /home/ss/.local/lib/python3.10/site-packages (from torch>=1.2.0->attacut) (11.10.3.66)\n",
      "Requirement already satisfied: nvidia-cufft-cu11==10.9.0.58 in /home/ss/.local/lib/python3.10/site-packages (from torch>=1.2.0->attacut) (10.9.0.58)\n",
      "Requirement already satisfied: nvidia-curand-cu11==10.2.10.91 in /home/ss/.local/lib/python3.10/site-packages (from torch>=1.2.0->attacut) (10.2.10.91)\n",
      "Requirement already satisfied: nvidia-cusolver-cu11==11.4.0.1 in /home/ss/.local/lib/python3.10/site-packages (from torch>=1.2.0->attacut) (11.4.0.1)\n",
      "Requirement already satisfied: nvidia-cusparse-cu11==11.7.4.91 in /home/ss/.local/lib/python3.10/site-packages (from torch>=1.2.0->attacut) (11.7.4.91)\n",
      "Requirement already satisfied: nvidia-nccl-cu11==2.14.3 in /home/ss/.local/lib/python3.10/site-packages (from torch>=1.2.0->attacut) (2.14.3)\n",
      "Requirement already satisfied: nvidia-nvtx-cu11==11.7.91 in /home/ss/.local/lib/python3.10/site-packages (from torch>=1.2.0->attacut) (11.7.91)\n",
      "Requirement already satisfied: triton==2.0.0 in /home/ss/.local/lib/python3.10/site-packages (from torch>=1.2.0->attacut) (2.0.0)\n",
      "Requirement already satisfied: setuptools in /home/ss/.local/lib/python3.10/site-packages (from nvidia-cublas-cu11==11.10.3.66->torch>=1.2.0->attacut) (68.0.0)\n",
      "Requirement already satisfied: wheel in /home/ss/anaconda3/envs/ML_Lab/lib/python3.10/site-packages (from nvidia-cublas-cu11==11.10.3.66->torch>=1.2.0->attacut) (0.41.2)\n",
      "Requirement already satisfied: cmake in /home/ss/.local/lib/python3.10/site-packages (from triton==2.0.0->torch>=1.2.0->attacut) (3.27.0)\n",
      "Requirement already satisfied: lit in /home/ss/.local/lib/python3.10/site-packages (from triton==2.0.0->torch>=1.2.0->attacut) (16.0.6)\n",
      "Requirement already satisfied: MarkupSafe>=2.0 in /home/ss/.local/lib/python3.10/site-packages (from jinja2->torch>=1.2.0->attacut) (2.1.3)\n",
      "Requirement already satisfied: mpmath>=0.19 in /home/ss/.local/lib/python3.10/site-packages (from sympy->torch>=1.2.0->attacut) (1.3.0)\n",
      "\u001b[33mDEPRECATION: omegaconf 2.0.6 has a non-standard dependency specifier PyYAML>=5.1.*. pip 23.3 will enforce this behaviour change. A possible replacement is to upgrade to a newer version of omegaconf or contact the author to suggest that they release a version with a conforming dependency specifiers. Discussion can be found at https://github.com/pypa/pip/issues/12063\u001b[0m\u001b[33m\n",
      "\u001b[0m\n",
      "\u001b[1m[\u001b[0m\u001b[34;49mnotice\u001b[0m\u001b[1;39;49m]\u001b[0m\u001b[39;49m A new release of pip is available: \u001b[0m\u001b[31;49m23.2.1\u001b[0m\u001b[39;49m -> \u001b[0m\u001b[32;49m24.0\u001b[0m\n",
      "\u001b[1m[\u001b[0m\u001b[34;49mnotice\u001b[0m\u001b[1;39;49m]\u001b[0m\u001b[39;49m To update, run: \u001b[0m\u001b[32;49mpip install --upgrade pip\u001b[0m\n"
     ]
    }
   ],
   "source": [
    "!pip install attacut"
   ]
  },
  {
   "cell_type": "code",
   "execution_count": 2,
   "metadata": {},
   "outputs": [],
   "source": [
    "import pandas as pd\n",
    "from pythainlp.corpus.common import thai_stopwords\n",
    "from pythainlp import word_tokenize\n",
    "from sklearn.model_selection import train_test_split     ## import train & test splitting library from sklearn\n",
    "from sklearn.feature_extraction.text import CountVectorizer\n",
    "from sklearn.linear_model import LogisticRegression\n",
    "from sklearn.feature_extraction.text import TfidfVectorizer\n",
    "from sklearn.ensemble import RandomForestClassifier\n",
    "from sklearn.experimental import enable_halving_search_cv\n",
    "from sklearn.model_selection import HalvingGridSearchCV\n",
    "from sklearn.naive_bayes import CategoricalNB   ,BernoulliNB , MultinomialNB  ## Bernoulli Naive Bayes\n",
    "from sklearn.metrics import confusion_matrix\n",
    "import seaborn as sns\n",
    "import matplotlib.pyplot as plt\n",
    "from sklearn.metrics import f1_score, recall_score\n",
    "import joblib\n",
    "import re\n",
    "import numpy as np"
   ]
  },
  {
   "cell_type": "markdown",
   "metadata": {},
   "source": [
    "# Read"
   ]
  },
  {
   "cell_type": "code",
   "execution_count": 3,
   "metadata": {},
   "outputs": [],
   "source": [
    "df = pd.read_json(\"./thai_sentiment_dataset.json\")\n",
    "df = df.drop_duplicates()"
   ]
  },
  {
   "cell_type": "code",
   "execution_count": 4,
   "metadata": {},
   "outputs": [
    {
     "data": {
      "text/html": [
       "<div>\n",
       "<style scoped>\n",
       "    .dataframe tbody tr th:only-of-type {\n",
       "        vertical-align: middle;\n",
       "    }\n",
       "\n",
       "    .dataframe tbody tr th {\n",
       "        vertical-align: top;\n",
       "    }\n",
       "\n",
       "    .dataframe thead th {\n",
       "        text-align: right;\n",
       "    }\n",
       "</style>\n",
       "<table border=\"1\" class=\"dataframe\">\n",
       "  <thead>\n",
       "    <tr style=\"text-align: right;\">\n",
       "      <th></th>\n",
       "      <th>story</th>\n",
       "      <th>sentiment</th>\n",
       "    </tr>\n",
       "  </thead>\n",
       "  <tbody>\n",
       "    <tr>\n",
       "      <th>11299</th>\n",
       "      <td>ถ้ายุคก่อนมีชัคกี้ ยุคนี้ก็คงต้องเป็นเมแกนที่ค...</td>\n",
       "      <td>negative</td>\n",
       "    </tr>\n",
       "    <tr>\n",
       "      <th>11294</th>\n",
       "      <td>สระแก้ว - ปลัดอำเภอสนามชัยเขต จ.ฉะเชิงเทรา 2 ค...</td>\n",
       "      <td>negative</td>\n",
       "    </tr>\n",
       "    <tr>\n",
       "      <th>4831</th>\n",
       "      <td>ข่าวและการแถลงข่าวในประเทศไทย | News &amp; Press R...</td>\n",
       "      <td>positive</td>\n",
       "    </tr>\n",
       "    <tr>\n",
       "      <th>25990</th>\n",
       "      <td>#เงินเฟ้อ #ทันหุ้น –บล.กสิกรไทยระบุว่า อัตราเง...</td>\n",
       "      <td>neutral</td>\n",
       "    </tr>\n",
       "    <tr>\n",
       "      <th>13700</th>\n",
       "      <td>วันที่ 7 พ.ย.66 กรมอุตุนิยมวิทยา พยากรณ์ฝนสะสม...</td>\n",
       "      <td>negative</td>\n",
       "    </tr>\n",
       "  </tbody>\n",
       "</table>\n",
       "</div>"
      ],
      "text/plain": [
       "                                                   story sentiment\n",
       "11299  ถ้ายุคก่อนมีชัคกี้ ยุคนี้ก็คงต้องเป็นเมแกนที่ค...  negative\n",
       "11294  สระแก้ว - ปลัดอำเภอสนามชัยเขต จ.ฉะเชิงเทรา 2 ค...  negative\n",
       "4831   ข่าวและการแถลงข่าวในประเทศไทย | News & Press R...  positive\n",
       "25990  #เงินเฟ้อ #ทันหุ้น –บล.กสิกรไทยระบุว่า อัตราเง...   neutral\n",
       "13700  วันที่ 7 พ.ย.66 กรมอุตุนิยมวิทยา พยากรณ์ฝนสะสม...  negative"
      ]
     },
     "execution_count": 4,
     "metadata": {},
     "output_type": "execute_result"
    }
   ],
   "source": [
    "df.sample(5)"
   ]
  },
  {
   "cell_type": "markdown",
   "metadata": {},
   "source": [
    "# ดูอัตราส่วน label\n",
    "ค่อนข้างเท่ากันจึงไม่ downsample"
   ]
  },
  {
   "cell_type": "code",
   "execution_count": 5,
   "metadata": {},
   "outputs": [
    {
     "data": {
      "text/plain": [
       "<Axes: xlabel='sentiment'>"
      ]
     },
     "execution_count": 5,
     "metadata": {},
     "output_type": "execute_result"
    },
    {
     "data": {
      "image/png": "[encoded data removed]",
      "text/plain": [
       "<Figure size 640x480 with 1 Axes>"
      ]
     },
     "metadata": {},
     "output_type": "display_data"
    }
   ],
   "source": [
    "df['sentiment'].value_counts().plot.bar()"
   ]
  },
  {
   "cell_type": "markdown",
   "metadata": {},
   "source": [
    "# Cleaning\n",
    "remove everything else except word with length > 1"
   ]
  },
  {
   "cell_type": "code",
   "execution_count": 6,
   "metadata": {},
   "outputs": [
    {
     "name": "stdout",
     "output_type": "stream",
     "text": [
      "1030\n"
     ]
    }
   ],
   "source": [
    "\n",
    "stopwords = list(thai_stopwords())\n",
    "print(len(stopwords))\n",
    "def text_process(text):                                          ###  split word and text preprocessing\n",
    "    final = re.sub(r'[^a-zA-Z\\sก-๛]', '', text, flags=re.UNICODE)\n",
    "    final = \"\".join(u for u in final if u not in (\"?\", \".\", \";\", \":\", \"!\", '\"', \"ๆ\", \"ฯ\"))\n",
    "    final = word_tokenize(final, engine=\"newmm\")\n",
    "    final = \" \".join(word for word in final)\n",
    "    final = \" \".join(word for word in final.split() if word.lower() not in stopwords and len(word) > 1)\n",
    "    return final.lower()"
   ]
  },
  {
   "cell_type": "code",
   "execution_count": 7,
   "metadata": {},
   "outputs": [
    {
     "data": {
      "text/html": [
       "<div>\n",
       "<style scoped>\n",
       "    .dataframe tbody tr th:only-of-type {\n",
       "        vertical-align: middle;\n",
       "    }\n",
       "\n",
       "    .dataframe tbody tr th {\n",
       "        vertical-align: top;\n",
       "    }\n",
       "\n",
       "    .dataframe thead th {\n",
       "        text-align: right;\n",
       "    }\n",
       "</style>\n",
       "<table border=\"1\" class=\"dataframe\">\n",
       "  <thead>\n",
       "    <tr style=\"text-align: right;\">\n",
       "      <th></th>\n",
       "      <th>story</th>\n",
       "      <th>sentiment</th>\n",
       "      <th>text_tokens</th>\n",
       "    </tr>\n",
       "  </thead>\n",
       "  <tbody>\n",
       "    <tr>\n",
       "      <th>0</th>\n",
       "      <td>นายสุริยะจึงรุ่งเรืองกิจ รัฐมนตรีว่าการกระทรวง...</td>\n",
       "      <td>positive</td>\n",
       "      <td>สุริยะ รุ่งเรือง กิจ รัฐมนตรี ว่าการ กระทรวงคม...</td>\n",
       "    </tr>\n",
       "    <tr>\n",
       "      <th>1</th>\n",
       "      <td>สวยงามยิ่งนัก กับเพชรเม็ดงามที่หายากยิ่ง \"บลูไ...</td>\n",
       "      <td>positive</td>\n",
       "      <td>สวยงาม เพชร เม็ด งาม หา บลู ได มอนด์ พย สำนักง...</td>\n",
       "    </tr>\n",
       "    <tr>\n",
       "      <th>2</th>\n",
       "      <td>โดยระหว่างวันดัชนีทำจุดสูงสุดที่ 1,417.16 จุด ...</td>\n",
       "      <td>positive</td>\n",
       "      <td>ดัชนี ทำ จุดสูงสุด จุด ทำ จุด ต่ำสุด จุด อันดั...</td>\n",
       "    </tr>\n",
       "    <tr>\n",
       "      <th>3</th>\n",
       "      <td>## ประเทศไทยนำเข้าปุ๋ยปีละกว่าแสนล้านบาท ซึ่งห...</td>\n",
       "      <td>positive</td>\n",
       "      <td>ประเทศ ไทย นำเข้า ปุ๋ย ปี แสน ล้าน บาท ผลิต แม...</td>\n",
       "    </tr>\n",
       "    <tr>\n",
       "      <th>4</th>\n",
       "      <td>\"เจเอเอส แอสเซ็ท (J)\" โชว์กำไร Q3/66 ทะยาน 617...</td>\n",
       "      <td>positive</td>\n",
       "      <td>เจ เอ เอส แอ เซ็ท โชว์ กำไร ทะยาน โครง การพัฒน...</td>\n",
       "    </tr>\n",
       "    <tr>\n",
       "      <th>...</th>\n",
       "      <td>...</td>\n",
       "      <td>...</td>\n",
       "      <td>...</td>\n",
       "    </tr>\n",
       "    <tr>\n",
       "      <th>26995</th>\n",
       "      <td>แชร์ :\\n\\n  \\n  \\n  \\n  \\n\\n\\nคุณวิภาวรรณ มหาด...</td>\n",
       "      <td>neutral</td>\n",
       "      <td>แชร์ วิภา วรรณ มหา ดำ รงค์ กุล กรรมการผู้จัดกา...</td>\n",
       "    </tr>\n",
       "    <tr>\n",
       "      <th>26996</th>\n",
       "      <td>นายธนวัฒน์ กิตติสุวรรณ ผู้ช่วยผู้จัดการใหญ่ ผู...</td>\n",
       "      <td>neutral</td>\n",
       "      <td>ธน วัฒน์ กิตติ สุวรรณ ผู้ช่วย ผู้จัดการ ผู้บริ...</td>\n",
       "    </tr>\n",
       "    <tr>\n",
       "      <th>26997</th>\n",
       "      <td>Advertisement\\n\\n  \\n\\n\\nมติ 'ก้าวไกล' ขับ 'ไช...</td>\n",
       "      <td>neutral</td>\n",
       "      <td>advertisement มติ ก้าวไกล ขับ ไช ยาม วาน พ้น พ...</td>\n",
       "    </tr>\n",
       "    <tr>\n",
       "      <th>26998</th>\n",
       "      <td>วันที่ 7 พฤศจิกายน 2566 เวลา 09.00 น.  นายไพโร...</td>\n",
       "      <td>neutral</td>\n",
       "      <td>วันที่ พฤศจิกายน เวลา ไพโรจน์ โชติก เสถียร ปลั...</td>\n",
       "    </tr>\n",
       "    <tr>\n",
       "      <th>26999</th>\n",
       "      <td>แชร์ :\\n\\n  \\n  \\n  \\n  \\n\\n\\nเมื่อลมหนาวพัดผ่...</td>\n",
       "      <td>neutral</td>\n",
       "      <td>แชร์ ลมหนาว พัดผ่าน ได้เวลา ปรับเปลี่ยน สไตล์ ...</td>\n",
       "    </tr>\n",
       "  </tbody>\n",
       "</table>\n",
       "<p>26001 rows × 3 columns</p>\n",
       "</div>"
      ],
      "text/plain": [
       "                                                   story sentiment  \\\n",
       "0      นายสุริยะจึงรุ่งเรืองกิจ รัฐมนตรีว่าการกระทรวง...  positive   \n",
       "1      สวยงามยิ่งนัก กับเพชรเม็ดงามที่หายากยิ่ง \"บลูไ...  positive   \n",
       "2      โดยระหว่างวันดัชนีทำจุดสูงสุดที่ 1,417.16 จุด ...  positive   \n",
       "3      ## ประเทศไทยนำเข้าปุ๋ยปีละกว่าแสนล้านบาท ซึ่งห...  positive   \n",
       "4      \"เจเอเอส แอสเซ็ท (J)\" โชว์กำไร Q3/66 ทะยาน 617...  positive   \n",
       "...                                                  ...       ...   \n",
       "26995  แชร์ :\\n\\n  \\n  \\n  \\n  \\n\\n\\nคุณวิภาวรรณ มหาด...   neutral   \n",
       "26996  นายธนวัฒน์ กิตติสุวรรณ ผู้ช่วยผู้จัดการใหญ่ ผู...   neutral   \n",
       "26997  Advertisement\\n\\n  \\n\\n\\nมติ 'ก้าวไกล' ขับ 'ไช...   neutral   \n",
       "26998  วันที่ 7 พฤศจิกายน 2566 เวลา 09.00 น.  นายไพโร...   neutral   \n",
       "26999  แชร์ :\\n\\n  \\n  \\n  \\n  \\n\\n\\nเมื่อลมหนาวพัดผ่...   neutral   \n",
       "\n",
       "                                             text_tokens  \n",
       "0      สุริยะ รุ่งเรือง กิจ รัฐมนตรี ว่าการ กระทรวงคม...  \n",
       "1      สวยงาม เพชร เม็ด งาม หา บลู ได มอนด์ พย สำนักง...  \n",
       "2      ดัชนี ทำ จุดสูงสุด จุด ทำ จุด ต่ำสุด จุด อันดั...  \n",
       "3      ประเทศ ไทย นำเข้า ปุ๋ย ปี แสน ล้าน บาท ผลิต แม...  \n",
       "4      เจ เอ เอส แอ เซ็ท โชว์ กำไร ทะยาน โครง การพัฒน...  \n",
       "...                                                  ...  \n",
       "26995  แชร์ วิภา วรรณ มหา ดำ รงค์ กุล กรรมการผู้จัดกา...  \n",
       "26996  ธน วัฒน์ กิตติ สุวรรณ ผู้ช่วย ผู้จัดการ ผู้บริ...  \n",
       "26997  advertisement มติ ก้าวไกล ขับ ไช ยาม วาน พ้น พ...  \n",
       "26998  วันที่ พฤศจิกายน เวลา ไพโรจน์ โชติก เสถียร ปลั...  \n",
       "26999  แชร์ ลมหนาว พัดผ่าน ได้เวลา ปรับเปลี่ยน สไตล์ ...  \n",
       "\n",
       "[26001 rows x 3 columns]"
      ]
     },
     "execution_count": 7,
     "metadata": {},
     "output_type": "execute_result"
    }
   ],
   "source": [
    "df['text_tokens'] = df['story'].apply(text_process)\n",
    "df"
   ]
  },
  {
   "cell_type": "markdown",
   "metadata": {},
   "source": [
    "# Extract feature by countvectorizer"
   ]
  },
  {
   "cell_type": "code",
   "execution_count": 8,
   "metadata": {},
   "outputs": [
    {
     "name": "stdout",
     "output_type": "stream",
     "text": [
      "Vocab size  65786\n"
     ]
    }
   ],
   "source": [
    "count_vector = CountVectorizer(token_pattern=\"[\\S]+\")\n",
    "#count_vector = TfidfVectorizer(token_pattern=\"[\\S]+\",smooth_idf=True,use_idf=True)\n",
    "\n",
    "Y = df['sentiment']\n",
    "X = df['text_tokens']\n",
    "X = count_vector.fit_transform(X)   \n",
    "X_train, X_test, Y_train, Y_test = train_test_split(X, Y, test_size = 0.2,stratify=Y, random_state=42)\n",
    "print(\"Vocab size \" ,len(count_vector.vocabulary_))"
   ]
  },
  {
   "cell_type": "code",
   "execution_count": 9,
   "metadata": {},
   "outputs": [
    {
     "name": "stdout",
     "output_type": "stream",
     "text": [
      "65786\n"
     ]
    }
   ],
   "source": [
    "vocab = list(count_vector.vocabulary_.items())      # For furthur inspection in jupyter\n",
    "print(len(count_vector.vocabulary_))"
   ]
  },
  {
   "cell_type": "markdown",
   "metadata": {},
   "source": [
    "# Naive bay model test"
   ]
  },
  {
   "cell_type": "code",
   "execution_count": 10,
   "metadata": {},
   "outputs": [
    {
     "name": "stdout",
     "output_type": "stream",
     "text": [
      "Accuracy on test :  0.6319938473370506\n"
     ]
    }
   ],
   "source": [
    "clf = MultinomialNB()\n",
    "clf.fit(X_train, Y_train)\n",
    "acc = clf.score(X_test,Y_test)\n",
    "print(\"Accuracy on test : \",acc)"
   ]
  },
  {
   "cell_type": "markdown",
   "metadata": {},
   "source": [
    "# LogisticRegression model test"
   ]
  },
  {
   "cell_type": "code",
   "execution_count": 11,
   "metadata": {},
   "outputs": [
    {
     "name": "stdout",
     "output_type": "stream",
     "text": [
      "Accuracy on test :  0.7375504710632571\n"
     ]
    }
   ],
   "source": [
    "softmax_regression_model = LogisticRegression(multi_class='multinomial',max_iter=1000000,n_jobs=4)\n",
    "softmax_regression_model.fit(X_train, Y_train)\n",
    "acc2 = softmax_regression_model.score(X_test,Y_test)\n",
    "print(\"Accuracy on test : \",acc2)"
   ]
  },
  {
   "cell_type": "markdown",
   "metadata": {},
   "source": [
    "# Hyper parameter tuning on RandomForestClassifier"
   ]
  },
  {
   "cell_type": "code",
   "execution_count": 12,
   "metadata": {},
   "outputs": [
    {
     "name": "stdout",
     "output_type": "stream",
     "text": [
      "n_iterations: 6\n",
      "n_required_iterations: 6\n",
      "n_possible_iterations: 6\n",
      "min_resources_: 85\n",
      "max_resources_: 20800\n",
      "aggressive_elimination: False\n",
      "factor: 3\n",
      "----------\n",
      "iter: 0\n",
      "n_candidates: 510\n",
      "n_resources: 85\n",
      "Fitting 5 folds for each of 510 candidates, totalling 2550 fits\n",
      "----------\n",
      "iter: 1\n",
      "n_candidates: 170\n",
      "n_resources: 255\n",
      "Fitting 5 folds for each of 170 candidates, totalling 850 fits\n",
      "----------\n",
      "iter: 2\n",
      "n_candidates: 57\n",
      "n_resources: 765\n",
      "Fitting 5 folds for each of 57 candidates, totalling 285 fits\n",
      "----------\n",
      "iter: 3\n",
      "n_candidates: 19\n",
      "n_resources: 2295\n",
      "Fitting 5 folds for each of 19 candidates, totalling 95 fits\n",
      "----------\n",
      "iter: 4\n",
      "n_candidates: 7\n",
      "n_resources: 6885\n",
      "Fitting 5 folds for each of 7 candidates, totalling 35 fits\n",
      "----------\n",
      "iter: 5\n",
      "n_candidates: 3\n",
      "n_resources: 20655\n",
      "Fitting 5 folds for each of 3 candidates, totalling 15 fits\n"
     ]
    },
    {
     "data": {
      "text/html": [
       "<style>#sk-container-id-1 {color: black;}#sk-container-id-1 pre{padding: 0;}#sk-container-id-1 div.sk-toggleable {background-color: white;}#sk-container-id-1 label.sk-toggleable__label {cursor: pointer;display: block;width: 100%;margin-bottom: 0;padding: 0.3em;box-sizing: border-box;text-align: center;}#sk-container-id-1 label.sk-toggleable__label-arrow:before {content: \"▸\";float: left;margin-right: 0.25em;color: #696969;}#sk-container-id-1 label.sk-toggleable__label-arrow:hover:before {color: black;}#sk-container-id-1 div.sk-estimator:hover label.sk-toggleable__label-arrow:before {color: black;}#sk-container-id-1 div.sk-toggleable__content {max-height: 0;max-width: 0;overflow: hidden;text-align: left;background-color: #f0f8ff;}#sk-container-id-1 div.sk-toggleable__content pre {margin: 0.2em;color: black;border-radius: 0.25em;background-color: #f0f8ff;}#sk-container-id-1 input.sk-toggleable__control:checked~div.sk-toggleable__content {max-height: 200px;max-width: 100%;overflow: auto;}#sk-container-id-1 input.sk-toggleable__control:checked~label.sk-toggleable__label-arrow:before {content: \"▾\";}#sk-container-id-1 div.sk-estimator input.sk-toggleable__control:checked~label.sk-toggleable__label {background-color: #d4ebff;}#sk-container-id-1 div.sk-label input.sk-toggleable__control:checked~label.sk-toggleable__label {background-color: #d4ebff;}#sk-container-id-1 input.sk-hidden--visually {border: 0;clip: rect(1px 1px 1px 1px);clip: rect(1px, 1px, 1px, 1px);height: 1px;margin: -1px;overflow: hidden;padding: 0;position: absolute;width: 1px;}#sk-container-id-1 div.sk-estimator {font-family: monospace;background-color: #f0f8ff;border: 1px dotted black;border-radius: 0.25em;box-sizing: border-box;margin-bottom: 0.5em;}#sk-container-id-1 div.sk-estimator:hover {background-color: #d4ebff;}#sk-container-id-1 div.sk-parallel-item::after {content: \"\";width: 100%;border-bottom: 1px solid gray;flex-grow: 1;}#sk-container-id-1 div.sk-label:hover label.sk-toggleable__label {background-color: #d4ebff;}#sk-container-id-1 div.sk-serial::before {content: \"\";position: absolute;border-left: 1px solid gray;box-sizing: border-box;top: 0;bottom: 0;left: 50%;z-index: 0;}#sk-container-id-1 div.sk-serial {display: flex;flex-direction: column;align-items: center;background-color: white;padding-right: 0.2em;padding-left: 0.2em;position: relative;}#sk-container-id-1 div.sk-item {position: relative;z-index: 1;}#sk-container-id-1 div.sk-parallel {display: flex;align-items: stretch;justify-content: center;background-color: white;position: relative;}#sk-container-id-1 div.sk-item::before, #sk-container-id-1 div.sk-parallel-item::before {content: \"\";position: absolute;border-left: 1px solid gray;box-sizing: border-box;top: 0;bottom: 0;left: 50%;z-index: -1;}#sk-container-id-1 div.sk-parallel-item {display: flex;flex-direction: column;z-index: 1;position: relative;background-color: white;}#sk-container-id-1 div.sk-parallel-item:first-child::after {align-self: flex-end;width: 50%;}#sk-container-id-1 div.sk-parallel-item:last-child::after {align-self: flex-start;width: 50%;}#sk-container-id-1 div.sk-parallel-item:only-child::after {width: 0;}#sk-container-id-1 div.sk-dashed-wrapped {border: 1px dashed gray;margin: 0 0.4em 0.5em 0.4em;box-sizing: border-box;padding-bottom: 0.4em;background-color: white;}#sk-container-id-1 div.sk-label label {font-family: monospace;font-weight: bold;display: inline-block;line-height: 1.2em;}#sk-container-id-1 div.sk-label-container {text-align: center;}#sk-container-id-1 div.sk-container {/* jupyter's `normalize.less` sets `[hidden] { display: none; }` but bootstrap.min.css set `[hidden] { display: none !important; }` so we also need the `!important` here to be able to override the default hidden behavior on the sphinx rendered scikit-learn.org. See: https://github.com/scikit-learn/scikit-learn/issues/21755 */display: inline-block !important;position: relative;}#sk-container-id-1 div.sk-text-repr-fallback {display: none;}</style><div id=\"sk-container-id-1\" class=\"sk-top-container\"><div class=\"sk-text-repr-fallback\"><pre>HalvingGridSearchCV(estimator=RandomForestClassifier(n_jobs=-1, random_state=1),\n",
       "                    n_jobs=-1,\n",
       "                    param_grid={&#x27;max_depth&#x27;: [100, 103, 106, 109, 112, 115, 118,\n",
       "                                              121, 124, 127, 130, 133, 136, 139,\n",
       "                                              142, 145, 148],\n",
       "                                &#x27;max_features&#x27;: [&#x27;sqrt&#x27;, None],\n",
       "                                &#x27;n_estimators&#x27;: [180, 184, 188, 192, 196, 200,\n",
       "                                                 204, 208, 212, 216, 220, 224,\n",
       "                                                 228, 232, 236]},\n",
       "                    verbose=1)</pre><b>In a Jupyter environment, please rerun this cell to show the HTML representation or trust the notebook. <br />On GitHub, the HTML representation is unable to render, please try loading this page with nbviewer.org.</b></div><div class=\"sk-container\" hidden><div class=\"sk-item sk-dashed-wrapped\"><div class=\"sk-label-container\"><div class=\"sk-label sk-toggleable\"><input class=\"sk-toggleable__control sk-hidden--visually\" id=\"sk-estimator-id-1\" type=\"checkbox\" ><label for=\"sk-estimator-id-1\" class=\"sk-toggleable__label sk-toggleable__label-arrow\">HalvingGridSearchCV</label><div class=\"sk-toggleable__content\"><pre>HalvingGridSearchCV(estimator=RandomForestClassifier(n_jobs=-1, random_state=1),\n",
       "                    n_jobs=-1,\n",
       "                    param_grid={&#x27;max_depth&#x27;: [100, 103, 106, 109, 112, 115, 118,\n",
       "                                              121, 124, 127, 130, 133, 136, 139,\n",
       "                                              142, 145, 148],\n",
       "                                &#x27;max_features&#x27;: [&#x27;sqrt&#x27;, None],\n",
       "                                &#x27;n_estimators&#x27;: [180, 184, 188, 192, 196, 200,\n",
       "                                                 204, 208, 212, 216, 220, 224,\n",
       "                                                 228, 232, 236]},\n",
       "                    verbose=1)</pre></div></div></div><div class=\"sk-parallel\"><div class=\"sk-parallel-item\"><div class=\"sk-item\"><div class=\"sk-label-container\"><div class=\"sk-label sk-toggleable\"><input class=\"sk-toggleable__control sk-hidden--visually\" id=\"sk-estimator-id-2\" type=\"checkbox\" ><label for=\"sk-estimator-id-2\" class=\"sk-toggleable__label sk-toggleable__label-arrow\">estimator: RandomForestClassifier</label><div class=\"sk-toggleable__content\"><pre>RandomForestClassifier(n_jobs=-1, random_state=1)</pre></div></div></div><div class=\"sk-serial\"><div class=\"sk-item\"><div class=\"sk-estimator sk-toggleable\"><input class=\"sk-toggleable__control sk-hidden--visually\" id=\"sk-estimator-id-3\" type=\"checkbox\" ><label for=\"sk-estimator-id-3\" class=\"sk-toggleable__label sk-toggleable__label-arrow\">RandomForestClassifier</label><div class=\"sk-toggleable__content\"><pre>RandomForestClassifier(n_jobs=-1, random_state=1)</pre></div></div></div></div></div></div></div></div></div></div>"
      ],
      "text/plain": [
       "HalvingGridSearchCV(estimator=RandomForestClassifier(n_jobs=-1, random_state=1),\n",
       "                    n_jobs=-1,\n",
       "                    param_grid={'max_depth': [100, 103, 106, 109, 112, 115, 118,\n",
       "                                              121, 124, 127, 130, 133, 136, 139,\n",
       "                                              142, 145, 148],\n",
       "                                'max_features': ['sqrt', None],\n",
       "                                'n_estimators': [180, 184, 188, 192, 196, 200,\n",
       "                                                 204, 208, 212, 216, 220, 224,\n",
       "                                                 228, 232, 236]},\n",
       "                    verbose=1)"
      ]
     },
     "execution_count": 12,
     "metadata": {},
     "output_type": "execute_result"
    }
   ],
   "source": [
    "# max_depth=125, n_estimators=200, n_jobs=4)\n",
    "param_grid = {\n",
    "    'n_estimators':list(range(180,240,4)), #[50,100,150,200,225,250],\n",
    "    'max_depth':list(range(100,150,3)), # [50, 75, 100,112, 125, 150, 175,200],\n",
    "    'max_features': [\"sqrt\",None]\n",
    "}\n",
    "\n",
    "# Initialize the RandomForestClassifier\n",
    "forest_model = RandomForestClassifier(random_state=1, n_jobs=-1)\n",
    "\n",
    "# Initialize RandomizedSearchCV with the custom scorer\n",
    "# This already do cross validation on given data!\n",
    "tuner = HalvingGridSearchCV(estimator=forest_model, param_grid=param_grid, verbose=1,n_jobs=-1)\n",
    "\n",
    "# Fit the tuner on the training data\n",
    "tuner.fit(X_train, Y_train)"
   ]
  },
  {
   "cell_type": "code",
   "execution_count": 13,
   "metadata": {},
   "outputs": [
    {
     "name": "stdout",
     "output_type": "stream",
     "text": [
      "Best parameters: {'max_depth': 115, 'max_features': 'sqrt', 'n_estimators': 208}\n",
      "Best score on val data: 0.745436940208182\n"
     ]
    },
    {
     "data": {
      "text/html": [
       "<div>\n",
       "<style scoped>\n",
       "    .dataframe tbody tr th:only-of-type {\n",
       "        vertical-align: middle;\n",
       "    }\n",
       "\n",
       "    .dataframe tbody tr th {\n",
       "        vertical-align: top;\n",
       "    }\n",
       "\n",
       "    .dataframe thead th {\n",
       "        text-align: right;\n",
       "    }\n",
       "</style>\n",
       "<table border=\"1\" class=\"dataframe\">\n",
       "  <thead>\n",
       "    <tr style=\"text-align: right;\">\n",
       "      <th></th>\n",
       "      <th>iter</th>\n",
       "      <th>n_resources</th>\n",
       "      <th>mean_fit_time</th>\n",
       "      <th>std_fit_time</th>\n",
       "      <th>mean_score_time</th>\n",
       "      <th>std_score_time</th>\n",
       "      <th>param_max_depth</th>\n",
       "      <th>param_max_features</th>\n",
       "      <th>param_n_estimators</th>\n",
       "      <th>params</th>\n",
       "      <th>...</th>\n",
       "      <th>mean_test_score</th>\n",
       "      <th>std_test_score</th>\n",
       "      <th>rank_test_score</th>\n",
       "      <th>split0_train_score</th>\n",
       "      <th>split1_train_score</th>\n",
       "      <th>split2_train_score</th>\n",
       "      <th>split3_train_score</th>\n",
       "      <th>split4_train_score</th>\n",
       "      <th>mean_train_score</th>\n",
       "      <th>std_train_score</th>\n",
       "    </tr>\n",
       "  </thead>\n",
       "  <tbody>\n",
       "    <tr>\n",
       "      <th>764</th>\n",
       "      <td>5</td>\n",
       "      <td>20655</td>\n",
       "      <td>311.095769</td>\n",
       "      <td>8.568190</td>\n",
       "      <td>0.995882</td>\n",
       "      <td>0.028600</td>\n",
       "      <td>115</td>\n",
       "      <td>sqrt</td>\n",
       "      <td>208</td>\n",
       "      <td>{'max_depth': 115, 'max_features': 'sqrt', 'n_...</td>\n",
       "      <td>...</td>\n",
       "      <td>0.745437</td>\n",
       "      <td>0.005109</td>\n",
       "      <td>1</td>\n",
       "      <td>0.991043</td>\n",
       "      <td>0.991164</td>\n",
       "      <td>0.991588</td>\n",
       "      <td>0.990438</td>\n",
       "      <td>0.990257</td>\n",
       "      <td>0.990898</td>\n",
       "      <td>0.000488</td>\n",
       "    </tr>\n",
       "    <tr>\n",
       "      <th>765</th>\n",
       "      <td>5</td>\n",
       "      <td>20655</td>\n",
       "      <td>251.305052</td>\n",
       "      <td>43.537917</td>\n",
       "      <td>0.691063</td>\n",
       "      <td>0.270157</td>\n",
       "      <td>115</td>\n",
       "      <td>sqrt</td>\n",
       "      <td>200</td>\n",
       "      <td>{'max_depth': 115, 'max_features': 'sqrt', 'n_...</td>\n",
       "      <td>...</td>\n",
       "      <td>0.744662</td>\n",
       "      <td>0.005580</td>\n",
       "      <td>2</td>\n",
       "      <td>0.991225</td>\n",
       "      <td>0.991225</td>\n",
       "      <td>0.991588</td>\n",
       "      <td>0.990620</td>\n",
       "      <td>0.990015</td>\n",
       "      <td>0.990934</td>\n",
       "      <td>0.000555</td>\n",
       "    </tr>\n",
       "    <tr>\n",
       "      <th>763</th>\n",
       "      <td>5</td>\n",
       "      <td>20655</td>\n",
       "      <td>288.227366</td>\n",
       "      <td>5.086026</td>\n",
       "      <td>0.886174</td>\n",
       "      <td>0.106922</td>\n",
       "      <td>115</td>\n",
       "      <td>sqrt</td>\n",
       "      <td>192</td>\n",
       "      <td>{'max_depth': 115, 'max_features': 'sqrt', 'n_...</td>\n",
       "      <td>...</td>\n",
       "      <td>0.743936</td>\n",
       "      <td>0.004556</td>\n",
       "      <td>3</td>\n",
       "      <td>0.991164</td>\n",
       "      <td>0.991104</td>\n",
       "      <td>0.991649</td>\n",
       "      <td>0.990620</td>\n",
       "      <td>0.990196</td>\n",
       "      <td>0.990947</td>\n",
       "      <td>0.000497</td>\n",
       "    </tr>\n",
       "    <tr>\n",
       "      <th>761</th>\n",
       "      <td>4</td>\n",
       "      <td>6885</td>\n",
       "      <td>70.275048</td>\n",
       "      <td>9.571850</td>\n",
       "      <td>0.459689</td>\n",
       "      <td>0.024824</td>\n",
       "      <td>115</td>\n",
       "      <td>sqrt</td>\n",
       "      <td>200</td>\n",
       "      <td>{'max_depth': 115, 'max_features': 'sqrt', 'n_...</td>\n",
       "      <td>...</td>\n",
       "      <td>0.655483</td>\n",
       "      <td>0.009520</td>\n",
       "      <td>4</td>\n",
       "      <td>0.992012</td>\n",
       "      <td>0.994916</td>\n",
       "      <td>0.994916</td>\n",
       "      <td>0.994735</td>\n",
       "      <td>0.993282</td>\n",
       "      <td>0.993972</td>\n",
       "      <td>0.001156</td>\n",
       "    </tr>\n",
       "    <tr>\n",
       "      <th>759</th>\n",
       "      <td>4</td>\n",
       "      <td>6885</td>\n",
       "      <td>91.221624</td>\n",
       "      <td>3.955272</td>\n",
       "      <td>0.549844</td>\n",
       "      <td>0.074380</td>\n",
       "      <td>115</td>\n",
       "      <td>sqrt</td>\n",
       "      <td>208</td>\n",
       "      <td>{'max_depth': 115, 'max_features': 'sqrt', 'n_...</td>\n",
       "      <td>...</td>\n",
       "      <td>0.655483</td>\n",
       "      <td>0.010777</td>\n",
       "      <td>5</td>\n",
       "      <td>0.991830</td>\n",
       "      <td>0.994916</td>\n",
       "      <td>0.994916</td>\n",
       "      <td>0.994553</td>\n",
       "      <td>0.993282</td>\n",
       "      <td>0.993900</td>\n",
       "      <td>0.001197</td>\n",
       "    </tr>\n",
       "    <tr>\n",
       "      <th>...</th>\n",
       "      <td>...</td>\n",
       "      <td>...</td>\n",
       "      <td>...</td>\n",
       "      <td>...</td>\n",
       "      <td>...</td>\n",
       "      <td>...</td>\n",
       "      <td>...</td>\n",
       "      <td>...</td>\n",
       "      <td>...</td>\n",
       "      <td>...</td>\n",
       "      <td>...</td>\n",
       "      <td>...</td>\n",
       "      <td>...</td>\n",
       "      <td>...</td>\n",
       "      <td>...</td>\n",
       "      <td>...</td>\n",
       "      <td>...</td>\n",
       "      <td>...</td>\n",
       "      <td>...</td>\n",
       "      <td>...</td>\n",
       "      <td>...</td>\n",
       "    </tr>\n",
       "    <tr>\n",
       "      <th>400</th>\n",
       "      <td>0</td>\n",
       "      <td>85</td>\n",
       "      <td>0.718580</td>\n",
       "      <td>0.027696</td>\n",
       "      <td>0.055766</td>\n",
       "      <td>0.006685</td>\n",
       "      <td>139</td>\n",
       "      <td>sqrt</td>\n",
       "      <td>220</td>\n",
       "      <td>{'max_depth': 139, 'max_features': 'sqrt', 'n_...</td>\n",
       "      <td>...</td>\n",
       "      <td>0.352941</td>\n",
       "      <td>0.134138</td>\n",
       "      <td>733</td>\n",
       "      <td>1.000000</td>\n",
       "      <td>1.000000</td>\n",
       "      <td>1.000000</td>\n",
       "      <td>1.000000</td>\n",
       "      <td>1.000000</td>\n",
       "      <td>1.000000</td>\n",
       "      <td>0.000000</td>\n",
       "    </tr>\n",
       "    <tr>\n",
       "      <th>430</th>\n",
       "      <td>0</td>\n",
       "      <td>85</td>\n",
       "      <td>0.711554</td>\n",
       "      <td>0.017839</td>\n",
       "      <td>0.058547</td>\n",
       "      <td>0.011302</td>\n",
       "      <td>142</td>\n",
       "      <td>sqrt</td>\n",
       "      <td>220</td>\n",
       "      <td>{'max_depth': 142, 'max_features': 'sqrt', 'n_...</td>\n",
       "      <td>...</td>\n",
       "      <td>0.352941</td>\n",
       "      <td>0.134138</td>\n",
       "      <td>733</td>\n",
       "      <td>1.000000</td>\n",
       "      <td>1.000000</td>\n",
       "      <td>1.000000</td>\n",
       "      <td>1.000000</td>\n",
       "      <td>1.000000</td>\n",
       "      <td>1.000000</td>\n",
       "      <td>0.000000</td>\n",
       "    </tr>\n",
       "    <tr>\n",
       "      <th>218</th>\n",
       "      <td>0</td>\n",
       "      <td>85</td>\n",
       "      <td>0.690104</td>\n",
       "      <td>0.016225</td>\n",
       "      <td>0.054161</td>\n",
       "      <td>0.004474</td>\n",
       "      <td>121</td>\n",
       "      <td>sqrt</td>\n",
       "      <td>212</td>\n",
       "      <td>{'max_depth': 121, 'max_features': 'sqrt', 'n_...</td>\n",
       "      <td>...</td>\n",
       "      <td>0.352941</td>\n",
       "      <td>0.134138</td>\n",
       "      <td>733</td>\n",
       "      <td>1.000000</td>\n",
       "      <td>1.000000</td>\n",
       "      <td>1.000000</td>\n",
       "      <td>1.000000</td>\n",
       "      <td>1.000000</td>\n",
       "      <td>1.000000</td>\n",
       "      <td>0.000000</td>\n",
       "    </tr>\n",
       "    <tr>\n",
       "      <th>70</th>\n",
       "      <td>0</td>\n",
       "      <td>85</td>\n",
       "      <td>0.719858</td>\n",
       "      <td>0.021557</td>\n",
       "      <td>0.057206</td>\n",
       "      <td>0.005633</td>\n",
       "      <td>106</td>\n",
       "      <td>sqrt</td>\n",
       "      <td>220</td>\n",
       "      <td>{'max_depth': 106, 'max_features': 'sqrt', 'n_...</td>\n",
       "      <td>...</td>\n",
       "      <td>0.352941</td>\n",
       "      <td>0.134138</td>\n",
       "      <td>733</td>\n",
       "      <td>1.000000</td>\n",
       "      <td>1.000000</td>\n",
       "      <td>1.000000</td>\n",
       "      <td>1.000000</td>\n",
       "      <td>1.000000</td>\n",
       "      <td>1.000000</td>\n",
       "      <td>0.000000</td>\n",
       "    </tr>\n",
       "    <tr>\n",
       "      <th>68</th>\n",
       "      <td>0</td>\n",
       "      <td>85</td>\n",
       "      <td>0.700610</td>\n",
       "      <td>0.032656</td>\n",
       "      <td>0.063744</td>\n",
       "      <td>0.015905</td>\n",
       "      <td>106</td>\n",
       "      <td>sqrt</td>\n",
       "      <td>212</td>\n",
       "      <td>{'max_depth': 106, 'max_features': 'sqrt', 'n_...</td>\n",
       "      <td>...</td>\n",
       "      <td>0.352941</td>\n",
       "      <td>0.134138</td>\n",
       "      <td>733</td>\n",
       "      <td>1.000000</td>\n",
       "      <td>1.000000</td>\n",
       "      <td>1.000000</td>\n",
       "      <td>1.000000</td>\n",
       "      <td>1.000000</td>\n",
       "      <td>1.000000</td>\n",
       "      <td>0.000000</td>\n",
       "    </tr>\n",
       "  </tbody>\n",
       "</table>\n",
       "<p>766 rows × 25 columns</p>\n",
       "</div>"
      ],
      "text/plain": [
       "     iter  n_resources  mean_fit_time  std_fit_time  mean_score_time  \\\n",
       "764     5        20655     311.095769      8.568190         0.995882   \n",
       "765     5        20655     251.305052     43.537917         0.691063   \n",
       "763     5        20655     288.227366      5.086026         0.886174   \n",
       "761     4         6885      70.275048      9.571850         0.459689   \n",
       "759     4         6885      91.221624      3.955272         0.549844   \n",
       "..    ...          ...            ...           ...              ...   \n",
       "400     0           85       0.718580      0.027696         0.055766   \n",
       "430     0           85       0.711554      0.017839         0.058547   \n",
       "218     0           85       0.690104      0.016225         0.054161   \n",
       "70      0           85       0.719858      0.021557         0.057206   \n",
       "68      0           85       0.700610      0.032656         0.063744   \n",
       "\n",
       "     std_score_time param_max_depth param_max_features param_n_estimators  \\\n",
       "764        0.028600             115               sqrt                208   \n",
       "765        0.270157             115               sqrt                200   \n",
       "763        0.106922             115               sqrt                192   \n",
       "761        0.024824             115               sqrt                200   \n",
       "759        0.074380             115               sqrt                208   \n",
       "..              ...             ...                ...                ...   \n",
       "400        0.006685             139               sqrt                220   \n",
       "430        0.011302             142               sqrt                220   \n",
       "218        0.004474             121               sqrt                212   \n",
       "70         0.005633             106               sqrt                220   \n",
       "68         0.015905             106               sqrt                212   \n",
       "\n",
       "                                                params  ...  mean_test_score  \\\n",
       "764  {'max_depth': 115, 'max_features': 'sqrt', 'n_...  ...         0.745437   \n",
       "765  {'max_depth': 115, 'max_features': 'sqrt', 'n_...  ...         0.744662   \n",
       "763  {'max_depth': 115, 'max_features': 'sqrt', 'n_...  ...         0.743936   \n",
       "761  {'max_depth': 115, 'max_features': 'sqrt', 'n_...  ...         0.655483   \n",
       "759  {'max_depth': 115, 'max_features': 'sqrt', 'n_...  ...         0.655483   \n",
       "..                                                 ...  ...              ...   \n",
       "400  {'max_depth': 139, 'max_features': 'sqrt', 'n_...  ...         0.352941   \n",
       "430  {'max_depth': 142, 'max_features': 'sqrt', 'n_...  ...         0.352941   \n",
       "218  {'max_depth': 121, 'max_features': 'sqrt', 'n_...  ...         0.352941   \n",
       "70   {'max_depth': 106, 'max_features': 'sqrt', 'n_...  ...         0.352941   \n",
       "68   {'max_depth': 106, 'max_features': 'sqrt', 'n_...  ...         0.352941   \n",
       "\n",
       "     std_test_score  rank_test_score  split0_train_score  split1_train_score  \\\n",
       "764        0.005109                1            0.991043            0.991164   \n",
       "765        0.005580                2            0.991225            0.991225   \n",
       "763        0.004556                3            0.991164            0.991104   \n",
       "761        0.009520                4            0.992012            0.994916   \n",
       "759        0.010777                5            0.991830            0.994916   \n",
       "..              ...              ...                 ...                 ...   \n",
       "400        0.134138              733            1.000000            1.000000   \n",
       "430        0.134138              733            1.000000            1.000000   \n",
       "218        0.134138              733            1.000000            1.000000   \n",
       "70         0.134138              733            1.000000            1.000000   \n",
       "68         0.134138              733            1.000000            1.000000   \n",
       "\n",
       "     split2_train_score  split3_train_score  split4_train_score  \\\n",
       "764            0.991588            0.990438            0.990257   \n",
       "765            0.991588            0.990620            0.990015   \n",
       "763            0.991649            0.990620            0.990196   \n",
       "761            0.994916            0.994735            0.993282   \n",
       "759            0.994916            0.994553            0.993282   \n",
       "..                  ...                 ...                 ...   \n",
       "400            1.000000            1.000000            1.000000   \n",
       "430            1.000000            1.000000            1.000000   \n",
       "218            1.000000            1.000000            1.000000   \n",
       "70             1.000000            1.000000            1.000000   \n",
       "68             1.000000            1.000000            1.000000   \n",
       "\n",
       "     mean_train_score  std_train_score  \n",
       "764          0.990898         0.000488  \n",
       "765          0.990934         0.000555  \n",
       "763          0.990947         0.000497  \n",
       "761          0.993972         0.001156  \n",
       "759          0.993900         0.001197  \n",
       "..                ...              ...  \n",
       "400          1.000000         0.000000  \n",
       "430          1.000000         0.000000  \n",
       "218          1.000000         0.000000  \n",
       "70           1.000000         0.000000  \n",
       "68           1.000000         0.000000  \n",
       "\n",
       "[766 rows x 25 columns]"
      ]
     },
     "execution_count": 13,
     "metadata": {},
     "output_type": "execute_result"
    }
   ],
   "source": [
    "# Results\n",
    "print(\"Best parameters:\", tuner.best_params_)\n",
    "print(\"Best score on val data:\", tuner.best_score_)\n",
    "cv_result = pd.DataFrame(tuner.cv_results_).sort_values(\"rank_test_score\")\n",
    "cv_result"
   ]
  },
  {
   "cell_type": "markdown",
   "metadata": {},
   "source": [
    "# Create model from tuned parameter"
   ]
  },
  {
   "cell_type": "code",
   "execution_count": 14,
   "metadata": {},
   "outputs": [
    {
     "data": {
      "text/html": [
       "<style>#sk-container-id-2 {color: black;}#sk-container-id-2 pre{padding: 0;}#sk-container-id-2 div.sk-toggleable {background-color: white;}#sk-container-id-2 label.sk-toggleable__label {cursor: pointer;display: block;width: 100%;margin-bottom: 0;padding: 0.3em;box-sizing: border-box;text-align: center;}#sk-container-id-2 label.sk-toggleable__label-arrow:before {content: \"▸\";float: left;margin-right: 0.25em;color: #696969;}#sk-container-id-2 label.sk-toggleable__label-arrow:hover:before {color: black;}#sk-container-id-2 div.sk-estimator:hover label.sk-toggleable__label-arrow:before {color: black;}#sk-container-id-2 div.sk-toggleable__content {max-height: 0;max-width: 0;overflow: hidden;text-align: left;background-color: #f0f8ff;}#sk-container-id-2 div.sk-toggleable__content pre {margin: 0.2em;color: black;border-radius: 0.25em;background-color: #f0f8ff;}#sk-container-id-2 input.sk-toggleable__control:checked~div.sk-toggleable__content {max-height: 200px;max-width: 100%;overflow: auto;}#sk-container-id-2 input.sk-toggleable__control:checked~label.sk-toggleable__label-arrow:before {content: \"▾\";}#sk-container-id-2 div.sk-estimator input.sk-toggleable__control:checked~label.sk-toggleable__label {background-color: #d4ebff;}#sk-container-id-2 div.sk-label input.sk-toggleable__control:checked~label.sk-toggleable__label {background-color: #d4ebff;}#sk-container-id-2 input.sk-hidden--visually {border: 0;clip: rect(1px 1px 1px 1px);clip: rect(1px, 1px, 1px, 1px);height: 1px;margin: -1px;overflow: hidden;padding: 0;position: absolute;width: 1px;}#sk-container-id-2 div.sk-estimator {font-family: monospace;background-color: #f0f8ff;border: 1px dotted black;border-radius: 0.25em;box-sizing: border-box;margin-bottom: 0.5em;}#sk-container-id-2 div.sk-estimator:hover {background-color: #d4ebff;}#sk-container-id-2 div.sk-parallel-item::after {content: \"\";width: 100%;border-bottom: 1px solid gray;flex-grow: 1;}#sk-container-id-2 div.sk-label:hover label.sk-toggleable__label {background-color: #d4ebff;}#sk-container-id-2 div.sk-serial::before {content: \"\";position: absolute;border-left: 1px solid gray;box-sizing: border-box;top: 0;bottom: 0;left: 50%;z-index: 0;}#sk-container-id-2 div.sk-serial {display: flex;flex-direction: column;align-items: center;background-color: white;padding-right: 0.2em;padding-left: 0.2em;position: relative;}#sk-container-id-2 div.sk-item {position: relative;z-index: 1;}#sk-container-id-2 div.sk-parallel {display: flex;align-items: stretch;justify-content: center;background-color: white;position: relative;}#sk-container-id-2 div.sk-item::before, #sk-container-id-2 div.sk-parallel-item::before {content: \"\";position: absolute;border-left: 1px solid gray;box-sizing: border-box;top: 0;bottom: 0;left: 50%;z-index: -1;}#sk-container-id-2 div.sk-parallel-item {display: flex;flex-direction: column;z-index: 1;position: relative;background-color: white;}#sk-container-id-2 div.sk-parallel-item:first-child::after {align-self: flex-end;width: 50%;}#sk-container-id-2 div.sk-parallel-item:last-child::after {align-self: flex-start;width: 50%;}#sk-container-id-2 div.sk-parallel-item:only-child::after {width: 0;}#sk-container-id-2 div.sk-dashed-wrapped {border: 1px dashed gray;margin: 0 0.4em 0.5em 0.4em;box-sizing: border-box;padding-bottom: 0.4em;background-color: white;}#sk-container-id-2 div.sk-label label {font-family: monospace;font-weight: bold;display: inline-block;line-height: 1.2em;}#sk-container-id-2 div.sk-label-container {text-align: center;}#sk-container-id-2 div.sk-container {/* jupyter's `normalize.less` sets `[hidden] { display: none; }` but bootstrap.min.css set `[hidden] { display: none !important; }` so we also need the `!important` here to be able to override the default hidden behavior on the sphinx rendered scikit-learn.org. See: https://github.com/scikit-learn/scikit-learn/issues/21755 */display: inline-block !important;position: relative;}#sk-container-id-2 div.sk-text-repr-fallback {display: none;}</style><div id=\"sk-container-id-2\" class=\"sk-top-container\"><div class=\"sk-text-repr-fallback\"><pre>RandomForestClassifier(max_depth=115, n_estimators=208, n_jobs=4)</pre><b>In a Jupyter environment, please rerun this cell to show the HTML representation or trust the notebook. <br />On GitHub, the HTML representation is unable to render, please try loading this page with nbviewer.org.</b></div><div class=\"sk-container\" hidden><div class=\"sk-item\"><div class=\"sk-estimator sk-toggleable\"><input class=\"sk-toggleable__control sk-hidden--visually\" id=\"sk-estimator-id-4\" type=\"checkbox\" checked><label for=\"sk-estimator-id-4\" class=\"sk-toggleable__label sk-toggleable__label-arrow\">RandomForestClassifier</label><div class=\"sk-toggleable__content\"><pre>RandomForestClassifier(max_depth=115, n_estimators=208, n_jobs=4)</pre></div></div></div></div></div>"
      ],
      "text/plain": [
       "RandomForestClassifier(max_depth=115, n_estimators=208, n_jobs=4)"
      ]
     },
     "execution_count": 14,
     "metadata": {},
     "output_type": "execute_result"
    }
   ],
   "source": [
    "final_model = RandomForestClassifier(n_jobs=4, max_depth=tuner.best_params_[\"max_depth\"], max_features=tuner.best_params_[\"max_features\"], n_estimators=tuner.best_params_[\"n_estimators\"])\n",
    "final_model.fit(X_train, Y_train)"
   ]
  },
  {
   "cell_type": "markdown",
   "metadata": {},
   "source": [
    "# Accuracy measure"
   ]
  },
  {
   "cell_type": "code",
   "execution_count": 15,
   "metadata": {},
   "outputs": [
    {
     "name": "stdout",
     "output_type": "stream",
     "text": [
      "f1 0.7607252203983529 recall 0.7612133704712111\n"
     ]
    }
   ],
   "source": [
    "y_pred = final_model.predict(X_test)\n",
    "f1 = f1_score(Y_test, y_pred, average='macro')\n",
    "recall = recall_score(Y_test, y_pred, average='macro')\n",
    "print(\"f1\",f1,\"recall\",recall)\n",
    "# Confusion matrix and its label\n"
   ]
  },
  {
   "cell_type": "markdown",
   "metadata": {},
   "source": [
    "# Train with entire dataset"
   ]
  },
  {
   "cell_type": "code",
   "execution_count": 16,
   "metadata": {},
   "outputs": [
    {
     "data": {
      "text/html": [
       "<style>#sk-container-id-3 {color: black;}#sk-container-id-3 pre{padding: 0;}#sk-container-id-3 div.sk-toggleable {background-color: white;}#sk-container-id-3 label.sk-toggleable__label {cursor: pointer;display: block;width: 100%;margin-bottom: 0;padding: 0.3em;box-sizing: border-box;text-align: center;}#sk-container-id-3 label.sk-toggleable__label-arrow:before {content: \"▸\";float: left;margin-right: 0.25em;color: #696969;}#sk-container-id-3 label.sk-toggleable__label-arrow:hover:before {color: black;}#sk-container-id-3 div.sk-estimator:hover label.sk-toggleable__label-arrow:before {color: black;}#sk-container-id-3 div.sk-toggleable__content {max-height: 0;max-width: 0;overflow: hidden;text-align: left;background-color: #f0f8ff;}#sk-container-id-3 div.sk-toggleable__content pre {margin: 0.2em;color: black;border-radius: 0.25em;background-color: #f0f8ff;}#sk-container-id-3 input.sk-toggleable__control:checked~div.sk-toggleable__content {max-height: 200px;max-width: 100%;overflow: auto;}#sk-container-id-3 input.sk-toggleable__control:checked~label.sk-toggleable__label-arrow:before {content: \"▾\";}#sk-container-id-3 div.sk-estimator input.sk-toggleable__control:checked~label.sk-toggleable__label {background-color: #d4ebff;}#sk-container-id-3 div.sk-label input.sk-toggleable__control:checked~label.sk-toggleable__label {background-color: #d4ebff;}#sk-container-id-3 input.sk-hidden--visually {border: 0;clip: rect(1px 1px 1px 1px);clip: rect(1px, 1px, 1px, 1px);height: 1px;margin: -1px;overflow: hidden;padding: 0;position: absolute;width: 1px;}#sk-container-id-3 div.sk-estimator {font-family: monospace;background-color: #f0f8ff;border: 1px dotted black;border-radius: 0.25em;box-sizing: border-box;margin-bottom: 0.5em;}#sk-container-id-3 div.sk-estimator:hover {background-color: #d4ebff;}#sk-container-id-3 div.sk-parallel-item::after {content: \"\";width: 100%;border-bottom: 1px solid gray;flex-grow: 1;}#sk-container-id-3 div.sk-label:hover label.sk-toggleable__label {background-color: #d4ebff;}#sk-container-id-3 div.sk-serial::before {content: \"\";position: absolute;border-left: 1px solid gray;box-sizing: border-box;top: 0;bottom: 0;left: 50%;z-index: 0;}#sk-container-id-3 div.sk-serial {display: flex;flex-direction: column;align-items: center;background-color: white;padding-right: 0.2em;padding-left: 0.2em;position: relative;}#sk-container-id-3 div.sk-item {position: relative;z-index: 1;}#sk-container-id-3 div.sk-parallel {display: flex;align-items: stretch;justify-content: center;background-color: white;position: relative;}#sk-container-id-3 div.sk-item::before, #sk-container-id-3 div.sk-parallel-item::before {content: \"\";position: absolute;border-left: 1px solid gray;box-sizing: border-box;top: 0;bottom: 0;left: 50%;z-index: -1;}#sk-container-id-3 div.sk-parallel-item {display: flex;flex-direction: column;z-index: 1;position: relative;background-color: white;}#sk-container-id-3 div.sk-parallel-item:first-child::after {align-self: flex-end;width: 50%;}#sk-container-id-3 div.sk-parallel-item:last-child::after {align-self: flex-start;width: 50%;}#sk-container-id-3 div.sk-parallel-item:only-child::after {width: 0;}#sk-container-id-3 div.sk-dashed-wrapped {border: 1px dashed gray;margin: 0 0.4em 0.5em 0.4em;box-sizing: border-box;padding-bottom: 0.4em;background-color: white;}#sk-container-id-3 div.sk-label label {font-family: monospace;font-weight: bold;display: inline-block;line-height: 1.2em;}#sk-container-id-3 div.sk-label-container {text-align: center;}#sk-container-id-3 div.sk-container {/* jupyter's `normalize.less` sets `[hidden] { display: none; }` but bootstrap.min.css set `[hidden] { display: none !important; }` so we also need the `!important` here to be able to override the default hidden behavior on the sphinx rendered scikit-learn.org. See: https://github.com/scikit-learn/scikit-learn/issues/21755 */display: inline-block !important;position: relative;}#sk-container-id-3 div.sk-text-repr-fallback {display: none;}</style><div id=\"sk-container-id-3\" class=\"sk-top-container\"><div class=\"sk-text-repr-fallback\"><pre>RandomForestClassifier(max_depth=115, n_estimators=208, n_jobs=4)</pre><b>In a Jupyter environment, please rerun this cell to show the HTML representation or trust the notebook. <br />On GitHub, the HTML representation is unable to render, please try loading this page with nbviewer.org.</b></div><div class=\"sk-container\" hidden><div class=\"sk-item\"><div class=\"sk-estimator sk-toggleable\"><input class=\"sk-toggleable__control sk-hidden--visually\" id=\"sk-estimator-id-5\" type=\"checkbox\" checked><label for=\"sk-estimator-id-5\" class=\"sk-toggleable__label sk-toggleable__label-arrow\">RandomForestClassifier</label><div class=\"sk-toggleable__content\"><pre>RandomForestClassifier(max_depth=115, n_estimators=208, n_jobs=4)</pre></div></div></div></div></div>"
      ],
      "text/plain": [
       "RandomForestClassifier(max_depth=115, n_estimators=208, n_jobs=4)"
      ]
     },
     "execution_count": 16,
     "metadata": {},
     "output_type": "execute_result"
    }
   ],
   "source": [
    "final_model.fit(X,Y)"
   ]
  },
  {
   "cell_type": "markdown",
   "metadata": {},
   "source": [
    "## Save and wait for actual test data"
   ]
  },
  {
   "cell_type": "code",
   "execution_count": 17,
   "metadata": {},
   "outputs": [
    {
     "data": {
      "text/plain": [
       "['./random_forest.joblib']"
      ]
     },
     "execution_count": 17,
     "metadata": {},
     "output_type": "execute_result"
    }
   ],
   "source": [
    "joblib.dump(final_model, \"./random_forest.joblib\",compress=3)"
   ]
  }
 ],
 "metadata": {
  "kernelspec": {
   "display_name": "Python 3 (ipykernel)",
   "language": "python",
   "name": "python3"
  },
  "language_info": {
   "codemirror_mode": {
    "name": "ipython",
    "version": 3
   },
   "file_extension": ".py",
   "mimetype": "text/x-python",
   "name": "python",
   "nbconvert_exporter": "python",
   "pygments_lexer": "ipython3",
   "version": "3.10.13"
  },
  "orig_nbformat": 4
 },
 "nbformat": 4,
 "nbformat_minor": 2
}
