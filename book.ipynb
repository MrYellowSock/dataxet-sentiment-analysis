{
 "cells": [
  {
   "cell_type": "markdown",
   "metadata": {},
   "source": [
    "# Import"
   ]
  },
  {
   "cell_type": "code",
   "execution_count": 1,
   "metadata": {},
   "outputs": [
    {
     "name": "stdout",
     "output_type": "stream",
     "text": [
      "Collecting attacut\n",
      "  Downloading attacut-1.0.6-py3-none-any.whl.metadata (4.0 kB)\n",
      "Requirement already satisfied: pythainlp in /home/ss/.conda/envs/ML_Lab/lib/python3.10/site-packages (4.0.2)\n",
      "Collecting docopt>=0.6.2 (from attacut)\n",
      "  Downloading docopt-0.6.2.tar.gz (25 kB)\n",
      "  Preparing metadata (setup.py) ... \u001b[?25ldone\n",
      "\u001b[?25hCollecting fire>=0.1.3 (from attacut)\n",
      "  Downloading fire-0.5.0.tar.gz (88 kB)\n",
      "\u001b[2K     \u001b[38;2;114;156;31m━━━━━━━━━━━━━━━━━━━━━━━━━━━━━━━━━━━━━━━━\u001b[0m \u001b[32m88.3/88.3 kB\u001b[0m \u001b[31m2.9 MB/s\u001b[0m eta \u001b[36m0:00:00\u001b[0m\n",
      "\u001b[?25h  Preparing metadata (setup.py) ... \u001b[?25ldone\n",
      "\u001b[?25hCollecting nptyping>=0.2.0 (from attacut)\n",
      "  Downloading nptyping-2.5.0-py3-none-any.whl.metadata (7.6 kB)\n",
      "Requirement already satisfied: numpy>=1.17.0 in /home/ss/.conda/envs/ML_Lab/lib/python3.10/site-packages (from attacut) (1.26.0)\n",
      "Requirement already satisfied: pyyaml>=5.1.2 in /home/ss/.conda/envs/ML_Lab/lib/python3.10/site-packages (from attacut) (6.0.1)\n",
      "Requirement already satisfied: six>=1.12.0 in /home/ss/.conda/envs/ML_Lab/lib/python3.10/site-packages (from attacut) (1.16.0)\n",
      "Collecting ssg>=0.0.4 (from attacut)\n",
      "  Downloading ssg-0.0.8-py3-none-any.whl.metadata (762 bytes)\n",
      "Requirement already satisfied: torch>=1.2.0 in /home/ss/.conda/envs/ML_Lab/lib/python3.10/site-packages (from attacut) (2.1.2)\n",
      "Requirement already satisfied: requests>=2.22.0 in /home/ss/.conda/envs/ML_Lab/lib/python3.10/site-packages (from pythainlp) (2.31.0)\n",
      "Requirement already satisfied: termcolor in /home/ss/.conda/envs/ML_Lab/lib/python3.10/site-packages (from fire>=0.1.3->attacut) (2.4.0)\n",
      "Requirement already satisfied: charset-normalizer<4,>=2 in /home/ss/.conda/envs/ML_Lab/lib/python3.10/site-packages (from requests>=2.22.0->pythainlp) (3.3.2)\n",
      "Requirement already satisfied: idna<4,>=2.5 in /home/ss/.conda/envs/ML_Lab/lib/python3.10/site-packages (from requests>=2.22.0->pythainlp) (3.6)\n",
      "Requirement already satisfied: urllib3<3,>=1.21.1 in /home/ss/.conda/envs/ML_Lab/lib/python3.10/site-packages (from requests>=2.22.0->pythainlp) (2.1.0)\n",
      "Requirement already satisfied: certifi>=2017.4.17 in /home/ss/.conda/envs/ML_Lab/lib/python3.10/site-packages (from requests>=2.22.0->pythainlp) (2023.11.17)\n",
      "Collecting python-crfsuite>=0.9.6 (from ssg>=0.0.4->attacut)\n",
      "  Downloading python_crfsuite-0.9.10-cp310-cp310-manylinux_2_17_x86_64.manylinux2014_x86_64.whl.metadata (4.2 kB)\n",
      "Requirement already satisfied: tqdm>=4.32.2 in /home/ss/.conda/envs/ML_Lab/lib/python3.10/site-packages (from ssg>=0.0.4->attacut) (4.66.1)\n",
      "Requirement already satisfied: filelock in /home/ss/.conda/envs/ML_Lab/lib/python3.10/site-packages (from torch>=1.2.0->attacut) (3.13.1)\n",
      "Requirement already satisfied: typing-extensions in /home/ss/.conda/envs/ML_Lab/lib/python3.10/site-packages (from torch>=1.2.0->attacut) (4.9.0)\n",
      "Requirement already satisfied: sympy in /home/ss/.conda/envs/ML_Lab/lib/python3.10/site-packages (from torch>=1.2.0->attacut) (1.12)\n",
      "Requirement already satisfied: networkx in /home/ss/.conda/envs/ML_Lab/lib/python3.10/site-packages (from torch>=1.2.0->attacut) (3.2.1)\n",
      "Requirement already satisfied: jinja2 in /home/ss/.conda/envs/ML_Lab/lib/python3.10/site-packages (from torch>=1.2.0->attacut) (3.1.3)\n",
      "Requirement already satisfied: fsspec in /home/ss/.conda/envs/ML_Lab/lib/python3.10/site-packages (from torch>=1.2.0->attacut) (2023.12.2)\n",
      "Requirement already satisfied: nvidia-cuda-nvrtc-cu12==12.1.105 in /home/ss/.conda/envs/ML_Lab/lib/python3.10/site-packages (from torch>=1.2.0->attacut) (12.1.105)\n",
      "Requirement already satisfied: nvidia-cuda-runtime-cu12==12.1.105 in /home/ss/.conda/envs/ML_Lab/lib/python3.10/site-packages (from torch>=1.2.0->attacut) (12.1.105)\n",
      "Requirement already satisfied: nvidia-cuda-cupti-cu12==12.1.105 in /home/ss/.conda/envs/ML_Lab/lib/python3.10/site-packages (from torch>=1.2.0->attacut) (12.1.105)\n",
      "Requirement already satisfied: nvidia-cudnn-cu12==8.9.2.26 in /home/ss/.conda/envs/ML_Lab/lib/python3.10/site-packages (from torch>=1.2.0->attacut) (8.9.2.26)\n",
      "Requirement already satisfied: nvidia-cublas-cu12==12.1.3.1 in /home/ss/.conda/envs/ML_Lab/lib/python3.10/site-packages (from torch>=1.2.0->attacut) (12.1.3.1)\n",
      "Requirement already satisfied: nvidia-cufft-cu12==11.0.2.54 in /home/ss/.conda/envs/ML_Lab/lib/python3.10/site-packages (from torch>=1.2.0->attacut) (11.0.2.54)\n",
      "Requirement already satisfied: nvidia-curand-cu12==10.3.2.106 in /home/ss/.conda/envs/ML_Lab/lib/python3.10/site-packages (from torch>=1.2.0->attacut) (10.3.2.106)\n",
      "Requirement already satisfied: nvidia-cusolver-cu12==11.4.5.107 in /home/ss/.conda/envs/ML_Lab/lib/python3.10/site-packages (from torch>=1.2.0->attacut) (11.4.5.107)\n",
      "Requirement already satisfied: nvidia-cusparse-cu12==12.1.0.106 in /home/ss/.conda/envs/ML_Lab/lib/python3.10/site-packages (from torch>=1.2.0->attacut) (12.1.0.106)\n",
      "Requirement already satisfied: nvidia-nccl-cu12==2.18.1 in /home/ss/.conda/envs/ML_Lab/lib/python3.10/site-packages (from torch>=1.2.0->attacut) (2.18.1)\n",
      "Requirement already satisfied: nvidia-nvtx-cu12==12.1.105 in /home/ss/.conda/envs/ML_Lab/lib/python3.10/site-packages (from torch>=1.2.0->attacut) (12.1.105)\n",
      "Requirement already satisfied: triton==2.1.0 in /home/ss/.conda/envs/ML_Lab/lib/python3.10/site-packages (from torch>=1.2.0->attacut) (2.1.0)\n",
      "Requirement already satisfied: nvidia-nvjitlink-cu12 in /home/ss/.conda/envs/ML_Lab/lib/python3.10/site-packages (from nvidia-cusolver-cu12==11.4.5.107->torch>=1.2.0->attacut) (12.3.101)\n",
      "Requirement already satisfied: MarkupSafe>=2.0 in /home/ss/.conda/envs/ML_Lab/lib/python3.10/site-packages (from jinja2->torch>=1.2.0->attacut) (2.1.3)\n",
      "Requirement already satisfied: mpmath>=0.19 in /home/ss/.conda/envs/ML_Lab/lib/python3.10/site-packages (from sympy->torch>=1.2.0->attacut) (1.3.0)\n",
      "Downloading attacut-1.0.6-py3-none-any.whl (1.3 MB)\n",
      "\u001b[2K   \u001b[38;2;114;156;31m━━━━━━━━━━━━━━━━━━━━━━━━━━━━━━━━━━━━━━━━\u001b[0m \u001b[32m1.3/1.3 MB\u001b[0m \u001b[31m15.1 MB/s\u001b[0m eta \u001b[36m0:00:00\u001b[0mm eta \u001b[36m0:00:01\u001b[0m0:01\u001b[0m\n",
      "\u001b[?25hDownloading nptyping-2.5.0-py3-none-any.whl (37 kB)\n",
      "Downloading ssg-0.0.8-py3-none-any.whl (473 kB)\n",
      "\u001b[2K   \u001b[38;2;114;156;31m━━━━━━━━━━━━━━━━━━━━━━━━━━━━━━━━━━━━━━━━\u001b[0m \u001b[32m473.8/473.8 kB\u001b[0m \u001b[31m19.7 MB/s\u001b[0m eta \u001b[36m0:00:00\u001b[0m\n",
      "\u001b[?25hDownloading python_crfsuite-0.9.10-cp310-cp310-manylinux_2_17_x86_64.manylinux2014_x86_64.whl (1.1 MB)\n",
      "\u001b[2K   \u001b[38;2;114;156;31m━━━━━━━━━━━━━━━━━━━━━━━━━━━━━━━━━━━━━━━━\u001b[0m \u001b[32m1.1/1.1 MB\u001b[0m \u001b[31m27.7 MB/s\u001b[0m eta \u001b[36m0:00:00\u001b[0mm eta \u001b[36m0:00:01\u001b[0m\n",
      "\u001b[?25hBuilding wheels for collected packages: docopt, fire\n",
      "  Building wheel for docopt (setup.py) ... \u001b[?25ldone\n",
      "\u001b[?25h  Created wheel for docopt: filename=docopt-0.6.2-py2.py3-none-any.whl size=13705 sha256=122f7386634b3de6cd79e702805dd9a14b5227c36b8ae848396a9857958b78a7\n",
      "  Stored in directory: /home/ss/.cache/pip/wheels/fc/ab/d4/5da2067ac95b36618c629a5f93f809425700506f72c9732fac\n",
      "  Building wheel for fire (setup.py) ... \u001b[?25ldone\n",
      "\u001b[?25h  Created wheel for fire: filename=fire-0.5.0-py2.py3-none-any.whl size=116934 sha256=c4600547d20e02f821c4f16c2d0fe2d9df13e001bbe8acddd9b3f123bdf97d53\n",
      "  Stored in directory: /home/ss/.cache/pip/wheels/90/d4/f7/9404e5db0116bd4d43e5666eaa3e70ab53723e1e3ea40c9a95\n",
      "Successfully built docopt fire\n",
      "Installing collected packages: python-crfsuite, docopt, nptyping, fire, ssg, attacut\n",
      "Successfully installed attacut-1.0.6 docopt-0.6.2 fire-0.5.0 nptyping-2.5.0 python-crfsuite-0.9.10 ssg-0.0.8\n"
     ]
    }
   ],
   "source": [
    "!pip install attacut pythainlp"
   ]
  },
  {
   "cell_type": "code",
   "execution_count": 2,
   "metadata": {},
   "outputs": [],
   "source": [
    "import pandas as pd\n",
    "from pythainlp.corpus.common import thai_stopwords\n",
    "from pythainlp import word_tokenize\n",
    "from sklearn.model_selection import train_test_split     ## import train & test splitting library from sklearn\n",
    "from sklearn.feature_extraction.text import CountVectorizer\n",
    "from sklearn.linear_model import LogisticRegression\n",
    "from sklearn.feature_extraction.text import TfidfVectorizer\n",
    "from sklearn.ensemble import RandomForestClassifier\n",
    "from sklearn.experimental import enable_halving_search_cv\n",
    "from sklearn.model_selection import HalvingGridSearchCV\n",
    "from sklearn.naive_bayes import CategoricalNB   ,BernoulliNB , MultinomialNB  ## Bernoulli Naive Bayes\n",
    "from sklearn.metrics import confusion_matrix\n",
    "import seaborn as sns\n",
    "import matplotlib.pyplot as plt\n",
    "from sklearn.metrics import f1_score, recall_score\n",
    "import joblib\n",
    "import re\n",
    "import numpy as np"
   ]
  },
  {
   "cell_type": "markdown",
   "metadata": {},
   "source": [
    "# Read"
   ]
  },
  {
   "cell_type": "code",
   "execution_count": 3,
   "metadata": {},
   "outputs": [],
   "source": [
    "df = pd.read_json(\"./thai_sentiment_dataset.json\")\n",
    "df = df.drop_duplicates()"
   ]
  },
  {
   "cell_type": "code",
   "execution_count": 4,
   "metadata": {},
   "outputs": [
    {
     "data": {
      "text/html": [
       "<div>\n",
       "<style scoped>\n",
       "    .dataframe tbody tr th:only-of-type {\n",
       "        vertical-align: middle;\n",
       "    }\n",
       "\n",
       "    .dataframe tbody tr th {\n",
       "        vertical-align: top;\n",
       "    }\n",
       "\n",
       "    .dataframe thead th {\n",
       "        text-align: right;\n",
       "    }\n",
       "</style>\n",
       "<table border=\"1\" class=\"dataframe\">\n",
       "  <thead>\n",
       "    <tr style=\"text-align: right;\">\n",
       "      <th></th>\n",
       "      <th>story</th>\n",
       "      <th>sentiment</th>\n",
       "    </tr>\n",
       "  </thead>\n",
       "  <tbody>\n",
       "    <tr>\n",
       "      <th>5142</th>\n",
       "      <td>Post Views: 1\\n\\n  \\n\\n\\nมุกดาหาร กฐินน้ำบูชาพ...</td>\n",
       "      <td>positive</td>\n",
       "    </tr>\n",
       "    <tr>\n",
       "      <th>10211</th>\n",
       "      <td>เรือนชฎานาง ทางสถานีโทรทัศน์ช่อง8 อีพี12 มาในโ...</td>\n",
       "      <td>negative</td>\n",
       "    </tr>\n",
       "    <tr>\n",
       "      <th>24886</th>\n",
       "      <td>บริษัท เซ็นทรัล เรสตอรองส์ กรุ๊ป จำกัด (ซีอาร์...</td>\n",
       "      <td>neutral</td>\n",
       "    </tr>\n",
       "    <tr>\n",
       "      <th>14549</th>\n",
       "      <td>“แม่นายเบลล่า” กอดๆ แม่มะลิหลัง “จอร์จ ฟอลคอน”...</td>\n",
       "      <td>negative</td>\n",
       "    </tr>\n",
       "    <tr>\n",
       "      <th>4207</th>\n",
       "      <td>กรุงเทพฯ 7 พ.ย. –ผู้ช่วย สส. ปูอัด ตัดโลโก้พรร...</td>\n",
       "      <td>positive</td>\n",
       "    </tr>\n",
       "  </tbody>\n",
       "</table>\n",
       "</div>"
      ],
      "text/plain": [
       "                                                   story sentiment\n",
       "5142   Post Views: 1\\n\\n  \\n\\n\\nมุกดาหาร กฐินน้ำบูชาพ...  positive\n",
       "10211  เรือนชฎานาง ทางสถานีโทรทัศน์ช่อง8 อีพี12 มาในโ...  negative\n",
       "24886  บริษัท เซ็นทรัล เรสตอรองส์ กรุ๊ป จำกัด (ซีอาร์...   neutral\n",
       "14549  “แม่นายเบลล่า” กอดๆ แม่มะลิหลัง “จอร์จ ฟอลคอน”...  negative\n",
       "4207   กรุงเทพฯ 7 พ.ย. –ผู้ช่วย สส. ปูอัด ตัดโลโก้พรร...  positive"
      ]
     },
     "execution_count": 4,
     "metadata": {},
     "output_type": "execute_result"
    }
   ],
   "source": [
    "df.sample(5)"
   ]
  },
  {
   "cell_type": "markdown",
   "metadata": {},
   "source": [
    "# ดูอัตราส่วน label\n",
    "ค่อนข้างเท่ากันจึงไม่ downsample"
   ]
  },
  {
   "cell_type": "code",
   "execution_count": 5,
   "metadata": {},
   "outputs": [
    {
     "data": {
      "text/plain": [
       "<Axes: xlabel='sentiment'>"
      ]
     },
     "execution_count": 5,
     "metadata": {},
     "output_type": "execute_result"
    },
    {
     "data": {
      "image/png": "[encoded data removed]",
      "text/plain": [
       "<Figure size 640x480 with 1 Axes>"
      ]
     },
     "metadata": {},
     "output_type": "display_data"
    }
   ],
   "source": [
    "df['sentiment'].value_counts().plot.bar()"
   ]
  },
  {
   "cell_type": "markdown",
   "metadata": {},
   "source": [
    "# Cleaning\n",
    "remove everything else except word with length > 1"
   ]
  },
  {
   "cell_type": "code",
   "execution_count": 6,
   "metadata": {},
   "outputs": [
    {
     "name": "stdout",
     "output_type": "stream",
     "text": [
      "1030\n"
     ]
    }
   ],
   "source": [
    "\n",
    "stopwords = list(thai_stopwords())\n",
    "print(len(stopwords))\n",
    "def text_process(text):                                          ###  split word and text preprocessing\n",
    "    final = re.sub(r'[^a-zA-Z\\sก-๛]', '', text, flags=re.UNICODE)\n",
    "    final = \"\".join(u for u in final if u not in (\"?\", \".\", \";\", \":\", \"!\", '\"', \"ๆ\", \"ฯ\"))\n",
    "    final = word_tokenize(final, engine=\"newmm\")\n",
    "    final = \" \".join(word for word in final)\n",
    "    final = \" \".join(word for word in final.split() if word.lower() not in stopwords and len(word) > 1)\n",
    "    return final.lower()"
   ]
  },
  {
   "cell_type": "code",
   "execution_count": 7,
   "metadata": {},
   "outputs": [
    {
     "data": {
      "text/html": [
       "<div>\n",
       "<style scoped>\n",
       "    .dataframe tbody tr th:only-of-type {\n",
       "        vertical-align: middle;\n",
       "    }\n",
       "\n",
       "    .dataframe tbody tr th {\n",
       "        vertical-align: top;\n",
       "    }\n",
       "\n",
       "    .dataframe thead th {\n",
       "        text-align: right;\n",
       "    }\n",
       "</style>\n",
       "<table border=\"1\" class=\"dataframe\">\n",
       "  <thead>\n",
       "    <tr style=\"text-align: right;\">\n",
       "      <th></th>\n",
       "      <th>story</th>\n",
       "      <th>sentiment</th>\n",
       "      <th>text_tokens</th>\n",
       "    </tr>\n",
       "  </thead>\n",
       "  <tbody>\n",
       "    <tr>\n",
       "      <th>0</th>\n",
       "      <td>นายสุริยะจึงรุ่งเรืองกิจ รัฐมนตรีว่าการกระทรวง...</td>\n",
       "      <td>positive</td>\n",
       "      <td>สุริยะ รุ่งเรือง กิจ รัฐมนตรี ว่าการ กระทรวงคม...</td>\n",
       "    </tr>\n",
       "    <tr>\n",
       "      <th>1</th>\n",
       "      <td>สวยงามยิ่งนัก กับเพชรเม็ดงามที่หายากยิ่ง \"บลูไ...</td>\n",
       "      <td>positive</td>\n",
       "      <td>สวยงาม เพชร เม็ด งาม หา บลู ได มอนด์ พย สำนักง...</td>\n",
       "    </tr>\n",
       "    <tr>\n",
       "      <th>2</th>\n",
       "      <td>โดยระหว่างวันดัชนีทำจุดสูงสุดที่ 1,417.16 จุด ...</td>\n",
       "      <td>positive</td>\n",
       "      <td>ดัชนี ทำ จุดสูงสุด จุด ทำ จุด ต่ำสุด จุด อันดั...</td>\n",
       "    </tr>\n",
       "    <tr>\n",
       "      <th>3</th>\n",
       "      <td>## ประเทศไทยนำเข้าปุ๋ยปีละกว่าแสนล้านบาท ซึ่งห...</td>\n",
       "      <td>positive</td>\n",
       "      <td>ประเทศ ไทย นำเข้า ปุ๋ย ปี แสน ล้าน บาท ผลิต แม...</td>\n",
       "    </tr>\n",
       "    <tr>\n",
       "      <th>4</th>\n",
       "      <td>\"เจเอเอส แอสเซ็ท (J)\" โชว์กำไร Q3/66 ทะยาน 617...</td>\n",
       "      <td>positive</td>\n",
       "      <td>เจ เอ เอส แอ เซ็ท โชว์ กำไร ทะยาน โครง การพัฒน...</td>\n",
       "    </tr>\n",
       "    <tr>\n",
       "      <th>...</th>\n",
       "      <td>...</td>\n",
       "      <td>...</td>\n",
       "      <td>...</td>\n",
       "    </tr>\n",
       "    <tr>\n",
       "      <th>26995</th>\n",
       "      <td>แชร์ :\\n\\n  \\n  \\n  \\n  \\n\\n\\nคุณวิภาวรรณ มหาด...</td>\n",
       "      <td>neutral</td>\n",
       "      <td>แชร์ วิภา วรรณ มหา ดำ รงค์ กุล กรรมการผู้จัดกา...</td>\n",
       "    </tr>\n",
       "    <tr>\n",
       "      <th>26996</th>\n",
       "      <td>นายธนวัฒน์ กิตติสุวรรณ ผู้ช่วยผู้จัดการใหญ่ ผู...</td>\n",
       "      <td>neutral</td>\n",
       "      <td>ธน วัฒน์ กิตติ สุวรรณ ผู้ช่วย ผู้จัดการ ผู้บริ...</td>\n",
       "    </tr>\n",
       "    <tr>\n",
       "      <th>26997</th>\n",
       "      <td>Advertisement\\n\\n  \\n\\n\\nมติ 'ก้าวไกล' ขับ 'ไช...</td>\n",
       "      <td>neutral</td>\n",
       "      <td>advertisement มติ ก้าวไกล ขับ ไช ยาม วาน พ้น พ...</td>\n",
       "    </tr>\n",
       "    <tr>\n",
       "      <th>26998</th>\n",
       "      <td>วันที่ 7 พฤศจิกายน 2566 เวลา 09.00 น.  นายไพโร...</td>\n",
       "      <td>neutral</td>\n",
       "      <td>วันที่ พฤศจิกายน เวลา ไพโรจน์ โชติก เสถียร ปลั...</td>\n",
       "    </tr>\n",
       "    <tr>\n",
       "      <th>26999</th>\n",
       "      <td>แชร์ :\\n\\n  \\n  \\n  \\n  \\n\\n\\nเมื่อลมหนาวพัดผ่...</td>\n",
       "      <td>neutral</td>\n",
       "      <td>แชร์ ลมหนาว พัดผ่าน ได้เวลา ปรับเปลี่ยน สไตล์ ...</td>\n",
       "    </tr>\n",
       "  </tbody>\n",
       "</table>\n",
       "<p>26001 rows × 3 columns</p>\n",
       "</div>"
      ],
      "text/plain": [
       "                                                   story sentiment  \\\n",
       "0      นายสุริยะจึงรุ่งเรืองกิจ รัฐมนตรีว่าการกระทรวง...  positive   \n",
       "1      สวยงามยิ่งนัก กับเพชรเม็ดงามที่หายากยิ่ง \"บลูไ...  positive   \n",
       "2      โดยระหว่างวันดัชนีทำจุดสูงสุดที่ 1,417.16 จุด ...  positive   \n",
       "3      ## ประเทศไทยนำเข้าปุ๋ยปีละกว่าแสนล้านบาท ซึ่งห...  positive   \n",
       "4      \"เจเอเอส แอสเซ็ท (J)\" โชว์กำไร Q3/66 ทะยาน 617...  positive   \n",
       "...                                                  ...       ...   \n",
       "26995  แชร์ :\\n\\n  \\n  \\n  \\n  \\n\\n\\nคุณวิภาวรรณ มหาด...   neutral   \n",
       "26996  นายธนวัฒน์ กิตติสุวรรณ ผู้ช่วยผู้จัดการใหญ่ ผู...   neutral   \n",
       "26997  Advertisement\\n\\n  \\n\\n\\nมติ 'ก้าวไกล' ขับ 'ไช...   neutral   \n",
       "26998  วันที่ 7 พฤศจิกายน 2566 เวลา 09.00 น.  นายไพโร...   neutral   \n",
       "26999  แชร์ :\\n\\n  \\n  \\n  \\n  \\n\\n\\nเมื่อลมหนาวพัดผ่...   neutral   \n",
       "\n",
       "                                             text_tokens  \n",
       "0      สุริยะ รุ่งเรือง กิจ รัฐมนตรี ว่าการ กระทรวงคม...  \n",
       "1      สวยงาม เพชร เม็ด งาม หา บลู ได มอนด์ พย สำนักง...  \n",
       "2      ดัชนี ทำ จุดสูงสุด จุด ทำ จุด ต่ำสุด จุด อันดั...  \n",
       "3      ประเทศ ไทย นำเข้า ปุ๋ย ปี แสน ล้าน บาท ผลิต แม...  \n",
       "4      เจ เอ เอส แอ เซ็ท โชว์ กำไร ทะยาน โครง การพัฒน...  \n",
       "...                                                  ...  \n",
       "26995  แชร์ วิภา วรรณ มหา ดำ รงค์ กุล กรรมการผู้จัดกา...  \n",
       "26996  ธน วัฒน์ กิตติ สุวรรณ ผู้ช่วย ผู้จัดการ ผู้บริ...  \n",
       "26997  advertisement มติ ก้าวไกล ขับ ไช ยาม วาน พ้น พ...  \n",
       "26998  วันที่ พฤศจิกายน เวลา ไพโรจน์ โชติก เสถียร ปลั...  \n",
       "26999  แชร์ ลมหนาว พัดผ่าน ได้เวลา ปรับเปลี่ยน สไตล์ ...  \n",
       "\n",
       "[26001 rows x 3 columns]"
      ]
     },
     "execution_count": 7,
     "metadata": {},
     "output_type": "execute_result"
    }
   ],
   "source": [
    "df['text_tokens'] = df['story'].apply(text_process)\n",
    "df"
   ]
  },
  {
   "cell_type": "markdown",
   "metadata": {},
   "source": [
    "# Extract feature by countvectorizer"
   ]
  },
  {
   "cell_type": "code",
   "execution_count": 8,
   "metadata": {},
   "outputs": [
    {
     "name": "stdout",
     "output_type": "stream",
     "text": [
      "Vocab size  65786\n"
     ]
    }
   ],
   "source": [
    "count_vector = CountVectorizer(token_pattern=\"[\\S]+\")\n",
    "#count_vector = TfidfVectorizer(token_pattern=\"[\\S]+\",smooth_idf=True,use_idf=True)\n",
    "\n",
    "Y = df['sentiment']\n",
    "X = df['text_tokens']\n",
    "X = count_vector.fit_transform(X)   \n",
    "X_train, X_test, Y_train, Y_test = train_test_split(X, Y, test_size = 0.2,stratify=Y, random_state=42)\n",
    "print(\"Vocab size \" ,len(count_vector.vocabulary_))"
   ]
  },
  {
   "cell_type": "code",
   "execution_count": 9,
   "metadata": {},
   "outputs": [
    {
     "name": "stdout",
     "output_type": "stream",
     "text": [
      "65786\n"
     ]
    }
   ],
   "source": [
    "vocab = list(count_vector.vocabulary_.items())      # For furthur inspection in jupyter\n",
    "print(len(count_vector.vocabulary_))"
   ]
  },
  {
   "cell_type": "markdown",
   "metadata": {},
   "source": [
    "# Naive bay model test"
   ]
  },
  {
   "cell_type": "code",
   "execution_count": 10,
   "metadata": {},
   "outputs": [
    {
     "name": "stdout",
     "output_type": "stream",
     "text": [
      "Accuracy on test :  0.6319938473370506\n"
     ]
    }
   ],
   "source": [
    "clf = MultinomialNB()\n",
    "clf.fit(X_train, Y_train)\n",
    "acc = clf.score(X_test,Y_test)\n",
    "print(\"Accuracy on test : \",acc)"
   ]
  },
  {
   "cell_type": "markdown",
   "metadata": {},
   "source": [
    "# LogisticRegression model test"
   ]
  },
  {
   "cell_type": "code",
   "execution_count": 11,
   "metadata": {},
   "outputs": [
    {
     "name": "stdout",
     "output_type": "stream",
     "text": [
      "Accuracy on test :  0.7375504710632571\n"
     ]
    }
   ],
   "source": [
    "softmax_regression_model = LogisticRegression(multi_class='multinomial',max_iter=1000000,n_jobs=4)\n",
    "softmax_regression_model.fit(X_train, Y_train)\n",
    "acc2 = softmax_regression_model.score(X_test,Y_test)\n",
    "print(\"Accuracy on test : \",acc2)"
   ]
  },
  {
   "cell_type": "markdown",
   "metadata": {},
   "source": [
    "# Hyper parameter tuning on RandomForestClassifier"
   ]
  },
  {
   "cell_type": "code",
   "execution_count": 12,
   "metadata": {},
   "outputs": [
    {
     "name": "stdout",
     "output_type": "stream",
     "text": [
      "n_iterations: 1\n",
      "n_required_iterations: 1\n",
      "n_possible_iterations: 1\n",
      "min_resources_: 20800\n",
      "max_resources_: 20800\n",
      "aggressive_elimination: False\n",
      "factor: 3\n",
      "----------\n",
      "iter: 0\n",
      "n_candidates: 1\n",
      "n_resources: 20800\n",
      "Fitting 5 folds for each of 1 candidates, totalling 5 fits\n"
     ]
    },
    {
     "data": {
      "text/html": [
       "<style>#sk-container-id-1 {color: black;}#sk-container-id-1 pre{padding: 0;}#sk-container-id-1 div.sk-toggleable {background-color: white;}#sk-container-id-1 label.sk-toggleable__label {cursor: pointer;display: block;width: 100%;margin-bottom: 0;padding: 0.3em;box-sizing: border-box;text-align: center;}#sk-container-id-1 label.sk-toggleable__label-arrow:before {content: \"▸\";float: left;margin-right: 0.25em;color: #696969;}#sk-container-id-1 label.sk-toggleable__label-arrow:hover:before {color: black;}#sk-container-id-1 div.sk-estimator:hover label.sk-toggleable__label-arrow:before {color: black;}#sk-container-id-1 div.sk-toggleable__content {max-height: 0;max-width: 0;overflow: hidden;text-align: left;background-color: #f0f8ff;}#sk-container-id-1 div.sk-toggleable__content pre {margin: 0.2em;color: black;border-radius: 0.25em;background-color: #f0f8ff;}#sk-container-id-1 input.sk-toggleable__control:checked~div.sk-toggleable__content {max-height: 200px;max-width: 100%;overflow: auto;}#sk-container-id-1 input.sk-toggleable__control:checked~label.sk-toggleable__label-arrow:before {content: \"▾\";}#sk-container-id-1 div.sk-estimator input.sk-toggleable__control:checked~label.sk-toggleable__label {background-color: #d4ebff;}#sk-container-id-1 div.sk-label input.sk-toggleable__control:checked~label.sk-toggleable__label {background-color: #d4ebff;}#sk-container-id-1 input.sk-hidden--visually {border: 0;clip: rect(1px 1px 1px 1px);clip: rect(1px, 1px, 1px, 1px);height: 1px;margin: -1px;overflow: hidden;padding: 0;position: absolute;width: 1px;}#sk-container-id-1 div.sk-estimator {font-family: monospace;background-color: #f0f8ff;border: 1px dotted black;border-radius: 0.25em;box-sizing: border-box;margin-bottom: 0.5em;}#sk-container-id-1 div.sk-estimator:hover {background-color: #d4ebff;}#sk-container-id-1 div.sk-parallel-item::after {content: \"\";width: 100%;border-bottom: 1px solid gray;flex-grow: 1;}#sk-container-id-1 div.sk-label:hover label.sk-toggleable__label {background-color: #d4ebff;}#sk-container-id-1 div.sk-serial::before {content: \"\";position: absolute;border-left: 1px solid gray;box-sizing: border-box;top: 0;bottom: 0;left: 50%;z-index: 0;}#sk-container-id-1 div.sk-serial {display: flex;flex-direction: column;align-items: center;background-color: white;padding-right: 0.2em;padding-left: 0.2em;position: relative;}#sk-container-id-1 div.sk-item {position: relative;z-index: 1;}#sk-container-id-1 div.sk-parallel {display: flex;align-items: stretch;justify-content: center;background-color: white;position: relative;}#sk-container-id-1 div.sk-item::before, #sk-container-id-1 div.sk-parallel-item::before {content: \"\";position: absolute;border-left: 1px solid gray;box-sizing: border-box;top: 0;bottom: 0;left: 50%;z-index: -1;}#sk-container-id-1 div.sk-parallel-item {display: flex;flex-direction: column;z-index: 1;position: relative;background-color: white;}#sk-container-id-1 div.sk-parallel-item:first-child::after {align-self: flex-end;width: 50%;}#sk-container-id-1 div.sk-parallel-item:last-child::after {align-self: flex-start;width: 50%;}#sk-container-id-1 div.sk-parallel-item:only-child::after {width: 0;}#sk-container-id-1 div.sk-dashed-wrapped {border: 1px dashed gray;margin: 0 0.4em 0.5em 0.4em;box-sizing: border-box;padding-bottom: 0.4em;background-color: white;}#sk-container-id-1 div.sk-label label {font-family: monospace;font-weight: bold;display: inline-block;line-height: 1.2em;}#sk-container-id-1 div.sk-label-container {text-align: center;}#sk-container-id-1 div.sk-container {/* jupyter's `normalize.less` sets `[hidden] { display: none; }` but bootstrap.min.css set `[hidden] { display: none !important; }` so we also need the `!important` here to be able to override the default hidden behavior on the sphinx rendered scikit-learn.org. See: https://github.com/scikit-learn/scikit-learn/issues/21755 */display: inline-block !important;position: relative;}#sk-container-id-1 div.sk-text-repr-fallback {display: none;}</style><div id=\"sk-container-id-1\" class=\"sk-top-container\"><div class=\"sk-text-repr-fallback\"><pre>HalvingGridSearchCV(estimator=RandomForestClassifier(n_jobs=-1, random_state=1),\n",
       "                    n_jobs=-1,\n",
       "                    param_grid={&#x27;max_depth&#x27;: [208], &#x27;max_features&#x27;: [&#x27;sqrt&#x27;],\n",
       "                                &#x27;n_estimators&#x27;: [115]},\n",
       "                    verbose=1)</pre><b>In a Jupyter environment, please rerun this cell to show the HTML representation or trust the notebook. <br />On GitHub, the HTML representation is unable to render, please try loading this page with nbviewer.org.</b></div><div class=\"sk-container\" hidden><div class=\"sk-item sk-dashed-wrapped\"><div class=\"sk-label-container\"><div class=\"sk-label sk-toggleable\"><input class=\"sk-toggleable__control sk-hidden--visually\" id=\"sk-estimator-id-1\" type=\"checkbox\" ><label for=\"sk-estimator-id-1\" class=\"sk-toggleable__label sk-toggleable__label-arrow\">HalvingGridSearchCV</label><div class=\"sk-toggleable__content\"><pre>HalvingGridSearchCV(estimator=RandomForestClassifier(n_jobs=-1, random_state=1),\n",
       "                    n_jobs=-1,\n",
       "                    param_grid={&#x27;max_depth&#x27;: [208], &#x27;max_features&#x27;: [&#x27;sqrt&#x27;],\n",
       "                                &#x27;n_estimators&#x27;: [115]},\n",
       "                    verbose=1)</pre></div></div></div><div class=\"sk-parallel\"><div class=\"sk-parallel-item\"><div class=\"sk-item\"><div class=\"sk-label-container\"><div class=\"sk-label sk-toggleable\"><input class=\"sk-toggleable__control sk-hidden--visually\" id=\"sk-estimator-id-2\" type=\"checkbox\" ><label for=\"sk-estimator-id-2\" class=\"sk-toggleable__label sk-toggleable__label-arrow\">estimator: RandomForestClassifier</label><div class=\"sk-toggleable__content\"><pre>RandomForestClassifier(n_jobs=-1, random_state=1)</pre></div></div></div><div class=\"sk-serial\"><div class=\"sk-item\"><div class=\"sk-estimator sk-toggleable\"><input class=\"sk-toggleable__control sk-hidden--visually\" id=\"sk-estimator-id-3\" type=\"checkbox\" ><label for=\"sk-estimator-id-3\" class=\"sk-toggleable__label sk-toggleable__label-arrow\">RandomForestClassifier</label><div class=\"sk-toggleable__content\"><pre>RandomForestClassifier(n_jobs=-1, random_state=1)</pre></div></div></div></div></div></div></div></div></div></div>"
      ],
      "text/plain": [
       "HalvingGridSearchCV(estimator=RandomForestClassifier(n_jobs=-1, random_state=1),\n",
       "                    n_jobs=-1,\n",
       "                    param_grid={'max_depth': [208], 'max_features': ['sqrt'],\n",
       "                                'n_estimators': [115]},\n",
       "                    verbose=1)"
      ]
     },
     "execution_count": 12,
     "metadata": {},
     "output_type": "execute_result"
    }
   ],
   "source": [
    "# max_depth=125, n_estimators=200, n_jobs=4)\n",
    "param_grid = {\n",
    "    #'n_estimators':list(range(180,240,4)), #[50,100,150,200,225,250],\n",
    "    #'max_depth':list(range(100,150,3)), # [50, 75, 100,112, 125, 150, 175,200],\n",
    "    #'max_features': [\"sqrt\",None]\n",
    "    # We already know best param\n",
    "    \n",
    "    'n_estimators': [115],\n",
    "    'max_depth': [208],\n",
    "    'max_features': ['sqrt']\n",
    "}\n",
    "\n",
    "# Initialize the RandomForestClassifier\n",
    "forest_model = RandomForestClassifier(random_state=1, n_jobs=-1)\n",
    "\n",
    "# Initialize RandomizedSearchCV with the custom scorer\n",
    "# This already do cross validation on given data!\n",
    "tuner = HalvingGridSearchCV(estimator=forest_model, param_grid=param_grid, verbose=1,n_jobs=-1)\n",
    "\n",
    "# Fit the tuner on the training data\n",
    "tuner.fit(X_train, Y_train)"
   ]
  },
  {
   "cell_type": "code",
   "execution_count": 13,
   "metadata": {},
   "outputs": [
    {
     "name": "stdout",
     "output_type": "stream",
     "text": [
      "Best parameters: {'max_depth': 208, 'max_features': 'sqrt', 'n_estimators': 115}\n",
      "Best score on val data: 0.7399038461538462\n"
     ]
    },
    {
     "data": {
      "text/html": [
       "<div>\n",
       "<style scoped>\n",
       "    .dataframe tbody tr th:only-of-type {\n",
       "        vertical-align: middle;\n",
       "    }\n",
       "\n",
       "    .dataframe tbody tr th {\n",
       "        vertical-align: top;\n",
       "    }\n",
       "\n",
       "    .dataframe thead th {\n",
       "        text-align: right;\n",
       "    }\n",
       "</style>\n",
       "<table border=\"1\" class=\"dataframe\">\n",
       "  <thead>\n",
       "    <tr style=\"text-align: right;\">\n",
       "      <th></th>\n",
       "      <th>iter</th>\n",
       "      <th>n_resources</th>\n",
       "      <th>mean_fit_time</th>\n",
       "      <th>std_fit_time</th>\n",
       "      <th>mean_score_time</th>\n",
       "      <th>std_score_time</th>\n",
       "      <th>param_max_depth</th>\n",
       "      <th>param_max_features</th>\n",
       "      <th>param_n_estimators</th>\n",
       "      <th>params</th>\n",
       "      <th>...</th>\n",
       "      <th>mean_test_score</th>\n",
       "      <th>std_test_score</th>\n",
       "      <th>rank_test_score</th>\n",
       "      <th>split0_train_score</th>\n",
       "      <th>split1_train_score</th>\n",
       "      <th>split2_train_score</th>\n",
       "      <th>split3_train_score</th>\n",
       "      <th>split4_train_score</th>\n",
       "      <th>mean_train_score</th>\n",
       "      <th>std_train_score</th>\n",
       "    </tr>\n",
       "  </thead>\n",
       "  <tbody>\n",
       "    <tr>\n",
       "      <th>0</th>\n",
       "      <td>0</td>\n",
       "      <td>20800</td>\n",
       "      <td>519.191577</td>\n",
       "      <td>11.925353</td>\n",
       "      <td>1.383016</td>\n",
       "      <td>0.447016</td>\n",
       "      <td>208</td>\n",
       "      <td>sqrt</td>\n",
       "      <td>115</td>\n",
       "      <td>{'max_depth': 208, 'max_features': 'sqrt', 'n_...</td>\n",
       "      <td>...</td>\n",
       "      <td>0.739904</td>\n",
       "      <td>0.007098</td>\n",
       "      <td>1</td>\n",
       "      <td>0.992548</td>\n",
       "      <td>0.992188</td>\n",
       "      <td>0.992788</td>\n",
       "      <td>0.992428</td>\n",
       "      <td>0.992608</td>\n",
       "      <td>0.992512</td>\n",
       "      <td>0.0002</td>\n",
       "    </tr>\n",
       "  </tbody>\n",
       "</table>\n",
       "<p>1 rows × 25 columns</p>\n",
       "</div>"
      ],
      "text/plain": [
       "   iter  n_resources  mean_fit_time  std_fit_time  mean_score_time  \\\n",
       "0     0        20800     519.191577     11.925353         1.383016   \n",
       "\n",
       "   std_score_time param_max_depth param_max_features param_n_estimators  \\\n",
       "0        0.447016             208               sqrt                115   \n",
       "\n",
       "                                              params  ...  mean_test_score  \\\n",
       "0  {'max_depth': 208, 'max_features': 'sqrt', 'n_...  ...         0.739904   \n",
       "\n",
       "   std_test_score  rank_test_score  split0_train_score  split1_train_score  \\\n",
       "0        0.007098                1            0.992548            0.992188   \n",
       "\n",
       "   split2_train_score  split3_train_score  split4_train_score  \\\n",
       "0            0.992788            0.992428            0.992608   \n",
       "\n",
       "   mean_train_score  std_train_score  \n",
       "0          0.992512           0.0002  \n",
       "\n",
       "[1 rows x 25 columns]"
      ]
     },
     "execution_count": 13,
     "metadata": {},
     "output_type": "execute_result"
    }
   ],
   "source": [
    "# Results\n",
    "print(\"Best parameters:\", tuner.best_params_)\n",
    "print(\"Best score on val data:\", tuner.best_score_)\n",
    "cv_result = pd.DataFrame(tuner.cv_results_).sort_values(\"rank_test_score\")\n",
    "cv_result"
   ]
  },
  {
   "cell_type": "markdown",
   "metadata": {},
   "source": [
    "# Create model from tuned parameter"
   ]
  },
  {
   "cell_type": "code",
   "execution_count": 14,
   "metadata": {},
   "outputs": [
    {
     "data": {
      "text/html": [
       "<style>#sk-container-id-2 {color: black;}#sk-container-id-2 pre{padding: 0;}#sk-container-id-2 div.sk-toggleable {background-color: white;}#sk-container-id-2 label.sk-toggleable__label {cursor: pointer;display: block;width: 100%;margin-bottom: 0;padding: 0.3em;box-sizing: border-box;text-align: center;}#sk-container-id-2 label.sk-toggleable__label-arrow:before {content: \"▸\";float: left;margin-right: 0.25em;color: #696969;}#sk-container-id-2 label.sk-toggleable__label-arrow:hover:before {color: black;}#sk-container-id-2 div.sk-estimator:hover label.sk-toggleable__label-arrow:before {color: black;}#sk-container-id-2 div.sk-toggleable__content {max-height: 0;max-width: 0;overflow: hidden;text-align: left;background-color: #f0f8ff;}#sk-container-id-2 div.sk-toggleable__content pre {margin: 0.2em;color: black;border-radius: 0.25em;background-color: #f0f8ff;}#sk-container-id-2 input.sk-toggleable__control:checked~div.sk-toggleable__content {max-height: 200px;max-width: 100%;overflow: auto;}#sk-container-id-2 input.sk-toggleable__control:checked~label.sk-toggleable__label-arrow:before {content: \"▾\";}#sk-container-id-2 div.sk-estimator input.sk-toggleable__control:checked~label.sk-toggleable__label {background-color: #d4ebff;}#sk-container-id-2 div.sk-label input.sk-toggleable__control:checked~label.sk-toggleable__label {background-color: #d4ebff;}#sk-container-id-2 input.sk-hidden--visually {border: 0;clip: rect(1px 1px 1px 1px);clip: rect(1px, 1px, 1px, 1px);height: 1px;margin: -1px;overflow: hidden;padding: 0;position: absolute;width: 1px;}#sk-container-id-2 div.sk-estimator {font-family: monospace;background-color: #f0f8ff;border: 1px dotted black;border-radius: 0.25em;box-sizing: border-box;margin-bottom: 0.5em;}#sk-container-id-2 div.sk-estimator:hover {background-color: #d4ebff;}#sk-container-id-2 div.sk-parallel-item::after {content: \"\";width: 100%;border-bottom: 1px solid gray;flex-grow: 1;}#sk-container-id-2 div.sk-label:hover label.sk-toggleable__label {background-color: #d4ebff;}#sk-container-id-2 div.sk-serial::before {content: \"\";position: absolute;border-left: 1px solid gray;box-sizing: border-box;top: 0;bottom: 0;left: 50%;z-index: 0;}#sk-container-id-2 div.sk-serial {display: flex;flex-direction: column;align-items: center;background-color: white;padding-right: 0.2em;padding-left: 0.2em;position: relative;}#sk-container-id-2 div.sk-item {position: relative;z-index: 1;}#sk-container-id-2 div.sk-parallel {display: flex;align-items: stretch;justify-content: center;background-color: white;position: relative;}#sk-container-id-2 div.sk-item::before, #sk-container-id-2 div.sk-parallel-item::before {content: \"\";position: absolute;border-left: 1px solid gray;box-sizing: border-box;top: 0;bottom: 0;left: 50%;z-index: -1;}#sk-container-id-2 div.sk-parallel-item {display: flex;flex-direction: column;z-index: 1;position: relative;background-color: white;}#sk-container-id-2 div.sk-parallel-item:first-child::after {align-self: flex-end;width: 50%;}#sk-container-id-2 div.sk-parallel-item:last-child::after {align-self: flex-start;width: 50%;}#sk-container-id-2 div.sk-parallel-item:only-child::after {width: 0;}#sk-container-id-2 div.sk-dashed-wrapped {border: 1px dashed gray;margin: 0 0.4em 0.5em 0.4em;box-sizing: border-box;padding-bottom: 0.4em;background-color: white;}#sk-container-id-2 div.sk-label label {font-family: monospace;font-weight: bold;display: inline-block;line-height: 1.2em;}#sk-container-id-2 div.sk-label-container {text-align: center;}#sk-container-id-2 div.sk-container {/* jupyter's `normalize.less` sets `[hidden] { display: none; }` but bootstrap.min.css set `[hidden] { display: none !important; }` so we also need the `!important` here to be able to override the default hidden behavior on the sphinx rendered scikit-learn.org. See: https://github.com/scikit-learn/scikit-learn/issues/21755 */display: inline-block !important;position: relative;}#sk-container-id-2 div.sk-text-repr-fallback {display: none;}</style><div id=\"sk-container-id-2\" class=\"sk-top-container\"><div class=\"sk-text-repr-fallback\"><pre>RandomForestClassifier(max_depth=208, n_estimators=115, n_jobs=4)</pre><b>In a Jupyter environment, please rerun this cell to show the HTML representation or trust the notebook. <br />On GitHub, the HTML representation is unable to render, please try loading this page with nbviewer.org.</b></div><div class=\"sk-container\" hidden><div class=\"sk-item\"><div class=\"sk-estimator sk-toggleable\"><input class=\"sk-toggleable__control sk-hidden--visually\" id=\"sk-estimator-id-4\" type=\"checkbox\" checked><label for=\"sk-estimator-id-4\" class=\"sk-toggleable__label sk-toggleable__label-arrow\">RandomForestClassifier</label><div class=\"sk-toggleable__content\"><pre>RandomForestClassifier(max_depth=208, n_estimators=115, n_jobs=4)</pre></div></div></div></div></div>"
      ],
      "text/plain": [
       "RandomForestClassifier(max_depth=208, n_estimators=115, n_jobs=4)"
      ]
     },
     "execution_count": 14,
     "metadata": {},
     "output_type": "execute_result"
    }
   ],
   "source": [
    "final_model = RandomForestClassifier(n_jobs=4, max_depth=tuner.best_params_[\"max_depth\"], max_features=tuner.best_params_[\"max_features\"], n_estimators=tuner.best_params_[\"n_estimators\"])\n",
    "final_model.fit(X_train, Y_train)"
   ]
  },
  {
   "cell_type": "markdown",
   "metadata": {},
   "source": [
    "# Accuracy measure"
   ]
  },
  {
   "cell_type": "code",
   "execution_count": 15,
   "metadata": {},
   "outputs": [
    {
     "name": "stdout",
     "output_type": "stream",
     "text": [
      "f1 0.76233544475395 recall 0.7629402891561353\n"
     ]
    }
   ],
   "source": [
    "y_pred = final_model.predict(X_test)\n",
    "f1 = f1_score(Y_test, y_pred, average='macro')\n",
    "recall = recall_score(Y_test, y_pred, average='macro')\n",
    "print(\"f1\",f1,\"recall\",recall)\n",
    "# Confusion matrix and its label\n"
   ]
  },
  {
   "cell_type": "markdown",
   "metadata": {},
   "source": [
    "# Train with entire dataset"
   ]
  },
  {
   "cell_type": "code",
   "execution_count": 16,
   "metadata": {},
   "outputs": [
    {
     "data": {
      "text/html": [
       "<style>#sk-container-id-3 {color: black;}#sk-container-id-3 pre{padding: 0;}#sk-container-id-3 div.sk-toggleable {background-color: white;}#sk-container-id-3 label.sk-toggleable__label {cursor: pointer;display: block;width: 100%;margin-bottom: 0;padding: 0.3em;box-sizing: border-box;text-align: center;}#sk-container-id-3 label.sk-toggleable__label-arrow:before {content: \"▸\";float: left;margin-right: 0.25em;color: #696969;}#sk-container-id-3 label.sk-toggleable__label-arrow:hover:before {color: black;}#sk-container-id-3 div.sk-estimator:hover label.sk-toggleable__label-arrow:before {color: black;}#sk-container-id-3 div.sk-toggleable__content {max-height: 0;max-width: 0;overflow: hidden;text-align: left;background-color: #f0f8ff;}#sk-container-id-3 div.sk-toggleable__content pre {margin: 0.2em;color: black;border-radius: 0.25em;background-color: #f0f8ff;}#sk-container-id-3 input.sk-toggleable__control:checked~div.sk-toggleable__content {max-height: 200px;max-width: 100%;overflow: auto;}#sk-container-id-3 input.sk-toggleable__control:checked~label.sk-toggleable__label-arrow:before {content: \"▾\";}#sk-container-id-3 div.sk-estimator input.sk-toggleable__control:checked~label.sk-toggleable__label {background-color: #d4ebff;}#sk-container-id-3 div.sk-label input.sk-toggleable__control:checked~label.sk-toggleable__label {background-color: #d4ebff;}#sk-container-id-3 input.sk-hidden--visually {border: 0;clip: rect(1px 1px 1px 1px);clip: rect(1px, 1px, 1px, 1px);height: 1px;margin: -1px;overflow: hidden;padding: 0;position: absolute;width: 1px;}#sk-container-id-3 div.sk-estimator {font-family: monospace;background-color: #f0f8ff;border: 1px dotted black;border-radius: 0.25em;box-sizing: border-box;margin-bottom: 0.5em;}#sk-container-id-3 div.sk-estimator:hover {background-color: #d4ebff;}#sk-container-id-3 div.sk-parallel-item::after {content: \"\";width: 100%;border-bottom: 1px solid gray;flex-grow: 1;}#sk-container-id-3 div.sk-label:hover label.sk-toggleable__label {background-color: #d4ebff;}#sk-container-id-3 div.sk-serial::before {content: \"\";position: absolute;border-left: 1px solid gray;box-sizing: border-box;top: 0;bottom: 0;left: 50%;z-index: 0;}#sk-container-id-3 div.sk-serial {display: flex;flex-direction: column;align-items: center;background-color: white;padding-right: 0.2em;padding-left: 0.2em;position: relative;}#sk-container-id-3 div.sk-item {position: relative;z-index: 1;}#sk-container-id-3 div.sk-parallel {display: flex;align-items: stretch;justify-content: center;background-color: white;position: relative;}#sk-container-id-3 div.sk-item::before, #sk-container-id-3 div.sk-parallel-item::before {content: \"\";position: absolute;border-left: 1px solid gray;box-sizing: border-box;top: 0;bottom: 0;left: 50%;z-index: -1;}#sk-container-id-3 div.sk-parallel-item {display: flex;flex-direction: column;z-index: 1;position: relative;background-color: white;}#sk-container-id-3 div.sk-parallel-item:first-child::after {align-self: flex-end;width: 50%;}#sk-container-id-3 div.sk-parallel-item:last-child::after {align-self: flex-start;width: 50%;}#sk-container-id-3 div.sk-parallel-item:only-child::after {width: 0;}#sk-container-id-3 div.sk-dashed-wrapped {border: 1px dashed gray;margin: 0 0.4em 0.5em 0.4em;box-sizing: border-box;padding-bottom: 0.4em;background-color: white;}#sk-container-id-3 div.sk-label label {font-family: monospace;font-weight: bold;display: inline-block;line-height: 1.2em;}#sk-container-id-3 div.sk-label-container {text-align: center;}#sk-container-id-3 div.sk-container {/* jupyter's `normalize.less` sets `[hidden] { display: none; }` but bootstrap.min.css set `[hidden] { display: none !important; }` so we also need the `!important` here to be able to override the default hidden behavior on the sphinx rendered scikit-learn.org. See: https://github.com/scikit-learn/scikit-learn/issues/21755 */display: inline-block !important;position: relative;}#sk-container-id-3 div.sk-text-repr-fallback {display: none;}</style><div id=\"sk-container-id-3\" class=\"sk-top-container\"><div class=\"sk-text-repr-fallback\"><pre>RandomForestClassifier(max_depth=208, n_estimators=115, n_jobs=4)</pre><b>In a Jupyter environment, please rerun this cell to show the HTML representation or trust the notebook. <br />On GitHub, the HTML representation is unable to render, please try loading this page with nbviewer.org.</b></div><div class=\"sk-container\" hidden><div class=\"sk-item\"><div class=\"sk-estimator sk-toggleable\"><input class=\"sk-toggleable__control sk-hidden--visually\" id=\"sk-estimator-id-5\" type=\"checkbox\" checked><label for=\"sk-estimator-id-5\" class=\"sk-toggleable__label sk-toggleable__label-arrow\">RandomForestClassifier</label><div class=\"sk-toggleable__content\"><pre>RandomForestClassifier(max_depth=208, n_estimators=115, n_jobs=4)</pre></div></div></div></div></div>"
      ],
      "text/plain": [
       "RandomForestClassifier(max_depth=208, n_estimators=115, n_jobs=4)"
      ]
     },
     "execution_count": 16,
     "metadata": {},
     "output_type": "execute_result"
    }
   ],
   "source": [
    "final_model.fit(X,Y)"
   ]
  },
  {
   "cell_type": "markdown",
   "metadata": {},
   "source": [
    "## Save and wait for actual test data"
   ]
  },
  {
   "cell_type": "code",
   "execution_count": 17,
   "metadata": {},
   "outputs": [
    {
     "data": {
      "text/plain": [
       "['./random_forest.joblib']"
      ]
     },
     "execution_count": 17,
     "metadata": {},
     "output_type": "execute_result"
    }
   ],
   "source": [
    "joblib.dump(final_model, \"./random_forest.joblib\",compress=3)"
   ]
  },
  {
   "cell_type": "markdown",
   "metadata": {},
   "source": [
    "# Predict on actual test data set"
   ]
  },
  {
   "cell_type": "code",
   "execution_count": 18,
   "metadata": {},
   "outputs": [
    {
     "name": "stdout",
     "output_type": "stream",
     "text": [
      "f1 0.9904211575568006 recall 0.9904183740625326\n"
     ]
    }
   ],
   "source": [
    "df_test = pd.read_json(\"./thai_sentiment_dataset_test.json\")\n",
    "\n",
    "df_test['text_tokens'] = df_test['story'].apply(text_process)\n",
    "\n",
    "Y_TEST = df['sentiment']\n",
    "X_TEST = count_vector.transform( df['text_tokens'] )\n",
    "PREDICT = final_model.predict(X_TEST)\n",
    "\n",
    "f1 = f1_score(Y_TEST, PREDICT, average='macro')\n",
    "recall = recall_score(Y_TEST, PREDICT, average='macro')\n",
    "print(\"f1\",f1,\"recall\",recall)"
   ]
  }
 ],
 "metadata": {
  "kernelspec": {
   "display_name": "Python 3 (ipykernel)",
   "language": "python",
   "name": "python3"
  },
  "language_info": {
   "codemirror_mode": {
    "name": "ipython",
    "version": 3
   },
   "file_extension": ".py",
   "mimetype": "text/x-python",
   "name": "python",
   "nbconvert_exporter": "python",
   "pygments_lexer": "ipython3",
   "version": "3.10.13"
  },
  "orig_nbformat": 4
 },
 "nbformat": 4,
 "nbformat_minor": 2
}
